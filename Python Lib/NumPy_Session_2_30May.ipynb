{
 "cells": [
  {
   "cell_type": "code",
   "execution_count": 3,
   "id": "9e41b41e",
   "metadata": {},
   "outputs": [
    {
     "data": {
      "text/plain": [
       "'2.2.6'"
      ]
     },
     "execution_count": 3,
     "metadata": {},
     "output_type": "execute_result"
    }
   ],
   "source": [
    "import numpy as np\n",
    "np.__version__"
   ]
  },
  {
   "cell_type": "code",
   "execution_count": 13,
   "id": "2048cd4d",
   "metadata": {},
   "outputs": [
    {
     "data": {
      "text/plain": [
       "array([[15, 26, 26,  7, 23, 11,  6,  6,  4,  3],\n",
       "       [19,  8, 13, 22,  7, 25, 14, 27, 20,  7],\n",
       "       [21, 12,  7,  9,  3,  3,  6, 19, 21, 10],\n",
       "       [18, 11, 23, 21, 10,  7,  3, 28, 27, 21],\n",
       "       [ 7,  8, 28, 28, 19, 21,  2, 16,  5, 16],\n",
       "       [ 6, 11,  2, 11, 20, 29,  2, 18,  8, 17],\n",
       "       [28, 24, 11, 22, 22, 11,  8, 12, 13, 21],\n",
       "       [ 9, 17, 12,  6, 17,  8, 13, 20, 12, 20],\n",
       "       [28, 26, 22, 24, 26,  5, 24,  7, 18, 10],\n",
       "       [ 9, 11, 26, 11,  4, 12,  2,  6, 22, 16]], dtype=int32)"
      ]
     },
     "execution_count": 13,
     "metadata": {},
     "output_type": "execute_result"
    }
   ],
   "source": [
    "np.random.randint(2,30,(10,10))"
   ]
  },
  {
   "cell_type": "code",
   "execution_count": 19,
   "id": "48129323",
   "metadata": {},
   "outputs": [
    {
     "data": {
      "text/plain": [
       "array([[11,  1,  5,  8,  9,  2,  1,  4,  8,  2],\n",
       "       [ 4,  4, 11,  2,  3,  7,  5, 11, 11,  4],\n",
       "       [ 5, 10,  2,  2, 11,  4, 10,  1,  4,  4],\n",
       "       [ 2,  3,  5,  6,  3,  8, 10, 11,  7,  5],\n",
       "       [ 7,  5,  6,  1,  7,  2,  3,  5,  6, 10],\n",
       "       [ 2,  1, 10,  6,  4, 11, 10,  7,  6,  2],\n",
       "       [ 9,  4,  7,  9,  3,  4, 11,  9,  2,  6],\n",
       "       [ 2, 11,  4, 11,  8,  9, 10,  5, 10,  4],\n",
       "       [ 1, 11,  6,  5,  8,  8,  6,  6,  1,  8],\n",
       "       [ 4,  2,  6,  5, 10,  5,  6,  2,  5,  5]], dtype=int32)"
      ]
     },
     "execution_count": 19,
     "metadata": {},
     "output_type": "execute_result"
    }
   ],
   "source": [
    "np.random.randint(1,12,(10,10))"
   ]
  },
  {
   "cell_type": "code",
   "execution_count": 34,
   "id": "c1ca6677",
   "metadata": {},
   "outputs": [
    {
     "data": {
      "text/plain": [
       "array([[ 1,  2,  3,  4],\n",
       "       [ 5,  6,  7,  8],\n",
       "       [ 9, 10, 11, 12]])"
      ]
     },
     "execution_count": 34,
     "metadata": {},
     "output_type": "execute_result"
    }
   ],
   "source": [
    "np.arange(1,13).reshape(3,4)"
   ]
  },
  {
   "cell_type": "code",
   "execution_count": 37,
   "id": "73461fb8",
   "metadata": {},
   "outputs": [
    {
     "data": {
      "text/plain": [
       "array([[ 1,  2],\n",
       "       [ 3,  4],\n",
       "       [ 5,  6],\n",
       "       [ 7,  8],\n",
       "       [ 9, 10],\n",
       "       [11, 12]])"
      ]
     },
     "execution_count": 37,
     "metadata": {},
     "output_type": "execute_result"
    }
   ],
   "source": [
    "np.arange(1,13).reshape(6,2)"
   ]
  },
  {
   "cell_type": "code",
   "execution_count": 44,
   "id": "65e5ad03",
   "metadata": {},
   "outputs": [
    {
     "data": {
      "text/plain": [
       "numpy.ndarray"
      ]
     },
     "execution_count": 44,
     "metadata": {},
     "output_type": "execute_result"
    }
   ],
   "source": [
    "b=np.random.randint(1,13,(6,2))\n",
    "b\n",
    "type(b)"
   ]
  },
  {
   "cell_type": "code",
   "execution_count": 45,
   "id": "793dc841",
   "metadata": {},
   "outputs": [
    {
     "data": {
      "text/plain": [
       "array([[ 3,  8],\n",
       "       [ 5,  8],\n",
       "       [10,  9],\n",
       "       [ 8,  9],\n",
       "       [11,  1],\n",
       "       [ 9,  1]], dtype=int32)"
      ]
     },
     "execution_count": 45,
     "metadata": {},
     "output_type": "execute_result"
    }
   ],
   "source": [
    "b[:]"
   ]
  },
  {
   "cell_type": "markdown",
   "id": "7f2e8841",
   "metadata": {},
   "source": [
    "Slicing"
   ]
  },
  {
   "cell_type": "code",
   "execution_count": 47,
   "id": "0f83b668",
   "metadata": {},
   "outputs": [
    {
     "data": {
      "text/plain": [
       "array([[ 3,  8],\n",
       "       [ 5,  8],\n",
       "       [10,  9],\n",
       "       [ 8,  9],\n",
       "       [11,  1],\n",
       "       [ 9,  1]], dtype=int32)"
      ]
     },
     "execution_count": 47,
     "metadata": {},
     "output_type": "execute_result"
    }
   ],
   "source": [
    "b[:]"
   ]
  },
  {
   "cell_type": "code",
   "execution_count": 49,
   "id": "3675c578",
   "metadata": {},
   "outputs": [
    {
     "data": {
      "text/plain": [
       "array([[ 5,  8],\n",
       "       [10,  9],\n",
       "       [ 8,  9]], dtype=int32)"
      ]
     },
     "execution_count": 49,
     "metadata": {},
     "output_type": "execute_result"
    }
   ],
   "source": [
    "b[1:4]"
   ]
  },
  {
   "cell_type": "code",
   "execution_count": 53,
   "id": "f1166792",
   "metadata": {},
   "outputs": [
    {
     "data": {
      "text/plain": [
       "array([[35, 53, 41, 32, 23, 76, 68, 24, 61, 96],\n",
       "       [78, 68,  6, 56, 87, 69, 58,  4, 34, 52],\n",
       "       [18, 73, 70, 71,  8, 33, 11, 40, 17, 53],\n",
       "       [80, 86, 64, 77, 78, 85, 66, 27,  1, 18],\n",
       "       [83, 99,  6, 93, 31,  9, 19, 55, 11,  2],\n",
       "       [12, 19, 16, 98, 93, 95, 86,  5, 58, 48],\n",
       "       [32, 37, 99, 92, 41, 85, 75, 16, 30,  1],\n",
       "       [79, 51, 29, 11, 23, 67, 25, 14,  2, 22],\n",
       "       [58, 80,  5,  2, 19, 39, 16, 47, 26,  4],\n",
       "       [73,  7, 48,  1,  6, 64, 73, 40, 85, 42]], dtype=int32)"
      ]
     },
     "execution_count": 53,
     "metadata": {},
     "output_type": "execute_result"
    }
   ],
   "source": [
    "arr=np.random.randint(0,100,(10,10))\n",
    "arr"
   ]
  },
  {
   "cell_type": "code",
   "execution_count": null,
   "id": "7f3dd032",
   "metadata": {},
   "outputs": [
    {
     "data": {
      "text/plain": [
       "array([[73,  7, 48,  1,  6, 64, 73, 40, 85, 42],\n",
       "       [58, 80,  5,  2, 19, 39, 16, 47, 26,  4],\n",
       "       [79, 51, 29, 11, 23, 67, 25, 14,  2, 22],\n",
       "       [32, 37, 99, 92, 41, 85, 75, 16, 30,  1],\n",
       "       [12, 19, 16, 98, 93, 95, 86,  5, 58, 48],\n",
       "       [83, 99,  6, 93, 31,  9, 19, 55, 11,  2],\n",
       "       [80, 86, 64, 77, 78, 85, 66, 27,  1, 18],\n",
       "       [18, 73, 70, 71,  8, 33, 11, 40, 17, 53],\n",
       "       [78, 68,  6, 56, 87, 69, 58,  4, 34, 52],\n",
       "       [35, 53, 41, 32, 23, 76, 68, 24, 61, 96]], dtype=int32)"
      ]
     },
     "execution_count": 54,
     "metadata": {},
     "output_type": "execute_result"
    }
   ],
   "source": [
    "arr[::-1]# Print reverse of an array"
   ]
  },
  {
   "cell_type": "code",
   "execution_count": 55,
   "id": "c4428650",
   "metadata": {},
   "outputs": [
    {
     "data": {
      "text/plain": [
       "array([[73,  7, 48,  1,  6, 64, 73, 40, 85, 42],\n",
       "       [79, 51, 29, 11, 23, 67, 25, 14,  2, 22],\n",
       "       [12, 19, 16, 98, 93, 95, 86,  5, 58, 48],\n",
       "       [80, 86, 64, 77, 78, 85, 66, 27,  1, 18],\n",
       "       [78, 68,  6, 56, 87, 69, 58,  4, 34, 52]], dtype=int32)"
      ]
     },
     "execution_count": 55,
     "metadata": {},
     "output_type": "execute_result"
    }
   ],
   "source": [
    "arr[::-2]# Print reverse of an array"
   ]
  },
  {
   "cell_type": "code",
   "execution_count": 56,
   "id": "b4d6e482",
   "metadata": {},
   "outputs": [
    {
     "data": {
      "text/plain": [
       "array([[73,  7, 48,  1,  6, 64, 73, 40, 85, 42],\n",
       "       [32, 37, 99, 92, 41, 85, 75, 16, 30,  1],\n",
       "       [80, 86, 64, 77, 78, 85, 66, 27,  1, 18],\n",
       "       [35, 53, 41, 32, 23, 76, 68, 24, 61, 96]], dtype=int32)"
      ]
     },
     "execution_count": 56,
     "metadata": {},
     "output_type": "execute_result"
    }
   ],
   "source": [
    "arr[::-3]# Print reverse of an array"
   ]
  },
  {
   "cell_type": "code",
   "execution_count": 57,
   "id": "a70f3e4e",
   "metadata": {},
   "outputs": [
    {
     "data": {
      "text/plain": [
       "array([[35, 53, 41, 32, 23, 76, 68, 24, 61, 96],\n",
       "       [80, 86, 64, 77, 78, 85, 66, 27,  1, 18],\n",
       "       [32, 37, 99, 92, 41, 85, 75, 16, 30,  1],\n",
       "       [73,  7, 48,  1,  6, 64, 73, 40, 85, 42]], dtype=int32)"
      ]
     },
     "execution_count": 57,
     "metadata": {},
     "output_type": "execute_result"
    }
   ],
   "source": [
    "arr[0:10:3]"
   ]
  },
  {
   "cell_type": "code",
   "execution_count": 58,
   "id": "e22f4545",
   "metadata": {},
   "outputs": [
    {
     "data": {
      "text/plain": [
       "np.int32(99)"
      ]
     },
     "execution_count": 58,
     "metadata": {},
     "output_type": "execute_result"
    }
   ],
   "source": [
    "arr.max()"
   ]
  },
  {
   "cell_type": "code",
   "execution_count": 59,
   "id": "8d766406",
   "metadata": {},
   "outputs": [
    {
     "data": {
      "text/plain": [
       "np.int32(1)"
      ]
     },
     "execution_count": 59,
     "metadata": {},
     "output_type": "execute_result"
    }
   ],
   "source": [
    "arr.min()"
   ]
  },
  {
   "cell_type": "code",
   "execution_count": 60,
   "id": "0dbc34d7",
   "metadata": {},
   "outputs": [
    {
     "data": {
      "text/plain": [
       "np.float64(41.0)"
      ]
     },
     "execution_count": 60,
     "metadata": {},
     "output_type": "execute_result"
    }
   ],
   "source": [
    "from numpy import *\n",
    "median(arr)"
   ]
  },
  {
   "cell_type": "code",
   "execution_count": 63,
   "id": "12aacf40",
   "metadata": {},
   "outputs": [
    {
     "data": {
      "text/plain": [
       "array([[ 0,  1,  2,  3,  4,  5,  6,  7,  8,  9],\n",
       "       [10, 11, 12, 13, 14, 15, 16, 17, 18, 19],\n",
       "       [20, 21, 22, 23, 24, 25, 26, 27, 28, 29],\n",
       "       [30, 31, 32, 33, 34, 35, 36, 37, 38, 39],\n",
       "       [40, 41, 42, 43, 44, 45, 46, 47, 48, 49],\n",
       "       [50, 51, 52, 53, 54, 55, 56, 57, 58, 59],\n",
       "       [60, 61, 62, 63, 64, 65, 66, 67, 68, 69],\n",
       "       [70, 71, 72, 73, 74, 75, 76, 77, 78, 79],\n",
       "       [80, 81, 82, 83, 84, 85, 86, 87, 88, 89],\n",
       "       [90, 91, 92, 93, 94, 95, 96, 97, 98, 99]])"
      ]
     },
     "execution_count": 63,
     "metadata": {},
     "output_type": "execute_result"
    }
   ],
   "source": [
    "mat=np.arange(0,100).reshape(10,10)\n",
    "mat"
   ]
  },
  {
   "cell_type": "code",
   "execution_count": 65,
   "id": "e0edb40e",
   "metadata": {},
   "outputs": [],
   "source": [
    "row=4\n",
    "col=5"
   ]
  },
  {
   "cell_type": "code",
   "execution_count": 66,
   "id": "c00d4051",
   "metadata": {},
   "outputs": [
    {
     "data": {
      "text/plain": [
       "5"
      ]
     },
     "execution_count": 66,
     "metadata": {},
     "output_type": "execute_result"
    }
   ],
   "source": [
    "col"
   ]
  },
  {
   "cell_type": "code",
   "execution_count": 69,
   "id": "4cff1211",
   "metadata": {},
   "outputs": [
    {
     "name": "stdout",
     "output_type": "stream",
     "text": [
      "45\n"
     ]
    }
   ],
   "source": [
    "print(mat[4,5])"
   ]
  },
  {
   "cell_type": "code",
   "execution_count": 70,
   "id": "4d02f30f",
   "metadata": {},
   "outputs": [
    {
     "data": {
      "text/plain": [
       "array([[ 0,  1,  2,  3,  4,  5,  6,  7,  8,  9],\n",
       "       [10, 11, 12, 13, 14, 15, 16, 17, 18, 19],\n",
       "       [20, 21, 22, 23, 24, 25, 26, 27, 28, 29],\n",
       "       [30, 31, 32, 33, 34, 35, 36, 37, 38, 39],\n",
       "       [40, 41, 42, 43, 44, 45, 46, 47, 48, 49],\n",
       "       [50, 51, 52, 53, 54, 55, 56, 57, 58, 59],\n",
       "       [60, 61, 62, 63, 64, 65, 66, 67, 68, 69],\n",
       "       [70, 71, 72, 73, 74, 75, 76, 77, 78, 79],\n",
       "       [80, 81, 82, 83, 84, 85, 86, 87, 88, 89],\n",
       "       [90, 91, 92, 93, 94, 95, 96, 97, 98, 99]])"
      ]
     },
     "execution_count": 70,
     "metadata": {},
     "output_type": "execute_result"
    }
   ],
   "source": [
    "mat"
   ]
  },
  {
   "cell_type": "code",
   "execution_count": 71,
   "id": "5625e2fe",
   "metadata": {},
   "outputs": [],
   "source": [
    "col=6"
   ]
  },
  {
   "cell_type": "code",
   "execution_count": 74,
   "id": "4bfb92ca",
   "metadata": {},
   "outputs": [
    {
     "data": {
      "text/plain": [
       "array([ 7, 17, 27, 37, 47, 57, 67, 77, 87, 97])"
      ]
     },
     "execution_count": 74,
     "metadata": {},
     "output_type": "execute_result"
    }
   ],
   "source": [
    "mat[:,7]"
   ]
  },
  {
   "cell_type": "code",
   "execution_count": 75,
   "id": "53b8769e",
   "metadata": {},
   "outputs": [
    {
     "data": {
      "text/plain": [
       "array([[ 0,  1,  2,  3,  4,  5,  6,  7,  8,  9],\n",
       "       [10, 11, 12, 13, 14, 15, 16, 17, 18, 19],\n",
       "       [20, 21, 22, 23, 24, 25, 26, 27, 28, 29],\n",
       "       [30, 31, 32, 33, 34, 35, 36, 37, 38, 39],\n",
       "       [40, 41, 42, 43, 44, 45, 46, 47, 48, 49],\n",
       "       [50, 51, 52, 53, 54, 55, 56, 57, 58, 59],\n",
       "       [60, 61, 62, 63, 64, 65, 66, 67, 68, 69],\n",
       "       [70, 71, 72, 73, 74, 75, 76, 77, 78, 79],\n",
       "       [80, 81, 82, 83, 84, 85, 86, 87, 88, 89],\n",
       "       [90, 91, 92, 93, 94, 95, 96, 97, 98, 99]])"
      ]
     },
     "execution_count": 75,
     "metadata": {},
     "output_type": "execute_result"
    }
   ],
   "source": [
    "mat"
   ]
  },
  {
   "cell_type": "code",
   "execution_count": 76,
   "id": "a10de4eb",
   "metadata": {},
   "outputs": [
    {
     "data": {
      "text/plain": [
       "2969506608016"
      ]
     },
     "execution_count": 76,
     "metadata": {},
     "output_type": "execute_result"
    }
   ],
   "source": [
    "id(mat)"
   ]
  },
  {
   "cell_type": "code",
   "execution_count": 77,
   "id": "de8d2121",
   "metadata": {},
   "outputs": [
    {
     "data": {
      "text/plain": [
       "array([[False, False, False, False, False, False, False, False, False,\n",
       "        False],\n",
       "       [False, False, False, False, False, False, False, False, False,\n",
       "        False],\n",
       "       [False, False, False, False, False, False, False, False, False,\n",
       "        False],\n",
       "       [False, False, False, False, False, False, False, False, False,\n",
       "        False],\n",
       "       [False, False, False, False, False, False, False, False, False,\n",
       "        False],\n",
       "       [False,  True,  True,  True,  True,  True,  True,  True,  True,\n",
       "         True],\n",
       "       [ True,  True,  True,  True,  True,  True,  True,  True,  True,\n",
       "         True],\n",
       "       [ True,  True,  True,  True,  True,  True,  True,  True,  True,\n",
       "         True],\n",
       "       [ True,  True,  True,  True,  True,  True,  True,  True,  True,\n",
       "         True],\n",
       "       [ True,  True,  True,  True,  True,  True,  True,  True,  True,\n",
       "         True]])"
      ]
     },
     "execution_count": 77,
     "metadata": {},
     "output_type": "execute_result"
    }
   ],
   "source": [
    "mat>50"
   ]
  },
  {
   "cell_type": "code",
   "execution_count": 81,
   "id": "1353dc92",
   "metadata": {},
   "outputs": [
    {
     "data": {
      "text/plain": [
       "array([0, 1, 2, 3, 4])"
      ]
     },
     "execution_count": 81,
     "metadata": {},
     "output_type": "execute_result"
    }
   ],
   "source": [
    "mat[mat<5]"
   ]
  },
  {
   "cell_type": "code",
   "execution_count": null,
   "id": "94a4a2f6",
   "metadata": {},
   "outputs": [],
   "source": []
  },
  {
   "cell_type": "code",
   "execution_count": null,
   "id": "0e53598d",
   "metadata": {},
   "outputs": [],
   "source": []
  },
  {
   "cell_type": "code",
   "execution_count": null,
   "id": "0f84d062",
   "metadata": {},
   "outputs": [],
   "source": []
  }
 ],
 "metadata": {
  "kernelspec": {
   "display_name": "Python 3",
   "language": "python",
   "name": "python3"
  },
  "language_info": {
   "codemirror_mode": {
    "name": "ipython",
    "version": 3
   },
   "file_extension": ".py",
   "mimetype": "text/x-python",
   "name": "python",
   "nbconvert_exporter": "python",
   "pygments_lexer": "ipython3",
   "version": "3.13.3"
  }
 },
 "nbformat": 4,
 "nbformat_minor": 5
}
