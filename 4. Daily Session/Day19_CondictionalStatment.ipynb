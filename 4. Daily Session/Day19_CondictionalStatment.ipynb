{
 "cells": [
  {
   "cell_type": "code",
   "execution_count": null,
   "id": "a931e39d",
   "metadata": {},
   "outputs": [],
   "source": [
    "#condictional Statment"
   ]
  },
  {
   "cell_type": "code",
   "execution_count": 2,
   "id": "03c40d86",
   "metadata": {},
   "outputs": [
    {
     "name": "stdout",
     "output_type": "stream",
     "text": [
      "Welcome AI enginner\n"
     ]
    }
   ],
   "source": [
    "if True:\n",
    "    print(\"Welcome AI enginner\")"
   ]
  },
  {
   "cell_type": "code",
   "execution_count": 3,
   "id": "c4816d09",
   "metadata": {},
   "outputs": [
    {
     "name": "stdout",
     "output_type": "stream",
     "text": [
      "Bye now\n"
     ]
    }
   ],
   "source": [
    "if False:\n",
    "    print(\"False condiction\")\n",
    "print(\"Bye now\")    "
   ]
  },
  {
   "cell_type": "code",
   "execution_count": 4,
   "id": "e7cff2c2",
   "metadata": {},
   "outputs": [
    {
     "name": "stdout",
     "output_type": "stream",
     "text": [
      "Odd Number\n"
     ]
    }
   ],
   "source": [
    "x = 3\n",
    "r = x % 2\n",
    "\n",
    "if r == 0:\n",
    "    print('Even number')\n",
    "    if x>5:\n",
    "        print('greater number')\n",
    "  \n",
    "else:\n",
    "    print('Odd Number')"
   ]
  },
  {
   "cell_type": "code",
   "execution_count": 7,
   "id": "fb003929",
   "metadata": {},
   "outputs": [
    {
     "name": "stdout",
     "output_type": "stream",
     "text": [
      "In-sufficient Balance Avaiable\n"
     ]
    }
   ],
   "source": [
    "#. Check if a bank account balance is sufficient for withdrawal.\n",
    "amount=int(input('Enter amount'))\n",
    "balance=100\n",
    "if amount>balance:\n",
    "    print(\"In-sufficient Balance Avaiable\")\n",
    "else:\n",
    "    print('Amount Deducted',amount)    "
   ]
  },
  {
   "cell_type": "code",
   "execution_count": 12,
   "id": "ce51e249",
   "metadata": {},
   "outputs": [
    {
     "name": "stdout",
     "output_type": "stream",
     "text": [
      "100 fees applicable\n"
     ]
    }
   ],
   "source": [
    "#. Implement a ticket pricing system where children under 5 enter for free, seniors (60+) get a 50% discount, and others pay ₹100\n",
    "age=int(input('Enter age'))\n",
    "if age<=5:\n",
    "    print(\"Free Entry\")\n",
    "elif age>=60:\n",
    "    print('50% Discount applicable')\n",
    "else:\n",
    "    print('100 fees applicable')        "
   ]
  },
  {
   "cell_type": "code",
   "execution_count": null,
   "id": "2b41eabb",
   "metadata": {},
   "outputs": [],
   "source": []
  },
  {
   "cell_type": "code",
   "execution_count": null,
   "id": "5ad3092f",
   "metadata": {},
   "outputs": [],
   "source": []
  }
 ],
 "metadata": {
  "kernelspec": {
   "display_name": "Python 3",
   "language": "python",
   "name": "python3"
  },
  "language_info": {
   "codemirror_mode": {
    "name": "ipython",
    "version": 3
   },
   "file_extension": ".py",
   "mimetype": "text/x-python",
   "name": "python",
   "nbconvert_exporter": "python",
   "pygments_lexer": "ipython3",
   "version": "3.13.3"
  }
 },
 "nbformat": 4,
 "nbformat_minor": 5
}
