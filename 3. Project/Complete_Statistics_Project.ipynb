{
 "cells": [
  {
   "cell_type": "code",
   "execution_count": 18,
   "id": "b177d3bb",
   "metadata": {},
   "outputs": [],
   "source": [
    "import pandas as pd\n",
    "import numpy as np\n",
    "import matplotlib.pyplot as plt\n",
    "import seaborn as sns\n",
    "import scipy.stats as stats"
   ]
  },
  {
   "cell_type": "markdown",
   "id": "399f7c1a",
   "metadata": {},
   "source": [
    "## Step 1: Create the Dataset"
   ]
  },
  {
   "cell_type": "code",
   "execution_count": 19,
   "id": "7b0c5664",
   "metadata": {},
   "outputs": [
    {
     "name": "stdout",
     "output_type": "stream",
     "text": [
      "    product_id product_name     category  units_sold  sale_date\n",
      "0            1    Product 1     Clothing          21 2023-01-01\n",
      "1            2    Product 2  Electronics          21 2023-01-02\n",
      "2            3    Product 3     Clothing          24 2023-01-03\n",
      "3            4    Product 4         Home          25 2023-01-04\n",
      "4            5    Product 5       Sports          17 2023-01-05\n",
      "5            6    Product 6     Clothing          29 2023-01-06\n",
      "6            7    Product 7       Sports          17 2023-01-07\n",
      "7            8    Product 8  Electronics          22 2023-01-08\n",
      "8            9    Product 9  Electronics          28 2023-01-09\n",
      "9           10   Product 10     Clothing          14 2023-01-10\n",
      "10          11   Product 11  Electronics          24 2023-01-11\n",
      "11          12   Product 12       Sports          22 2023-01-12\n",
      "12          13   Product 13     Clothing          21 2023-01-13\n",
      "13          14   Product 14         Home          18 2023-01-14\n",
      "14          15   Product 15       Sports          27 2023-01-15\n",
      "15          16   Product 16  Electronics          19 2023-01-16\n",
      "16          17   Product 17     Clothing          13 2023-01-17\n",
      "17          18   Product 18       Sports          17 2023-01-18\n",
      "18          19   Product 19  Electronics          21 2023-01-19\n",
      "19          20   Product 20     Clothing          11 2023-01-20\n"
     ]
    }
   ],
   "source": [
    "# num=np.random.seed(10)\n",
    "\n",
    "\n",
    "# Create a synthetic dataset\n",
    "data = {\n",
    "    'product_id': range(1, 21),\n",
    "    'product_name': [f'Product {i}' for i in range(1, 21)],\n",
    "    'category': np.random.choice(['Electronics', 'Clothing', 'Home', 'Sports'], 20),\n",
    "    'units_sold': np.random.poisson(lam=20, size=20),  # Poisson distribution for sales\n",
    "    'sale_date': pd.date_range(start='2023-01-01', periods=20, freq='D')\n",
    "}\n",
    "sales_data=pd.DataFrame(data)\n",
    "print(sales_data)"
   ]
  },
  {
   "cell_type": "code",
   "execution_count": 20,
   "id": "1b6a69e4",
   "metadata": {},
   "outputs": [],
   "source": [
    "sales_data.to_csv('product_Data')"
   ]
  },
  {
   "cell_type": "code",
   "execution_count": 21,
   "id": "43f7c60c",
   "metadata": {},
   "outputs": [
    {
     "data": {
      "text/plain": [
       "'c:\\\\DataScience-GenerativeAI-AgenticAI\\\\Practical\\\\DS-GenAi-AgenticAI-Bootcamp\\\\6-month-AI-Roadmap_2025\\\\3. Project'"
      ]
     },
     "execution_count": 21,
     "metadata": {},
     "output_type": "execute_result"
    }
   ],
   "source": [
    "import os\n",
    "os.getcwd()"
   ]
  },
  {
   "cell_type": "markdown",
   "id": "de72fd69",
   "metadata": {},
   "source": [
    "## Step 2: Descriptive Statistics"
   ]
  },
  {
   "cell_type": "code",
   "execution_count": 28,
   "id": "077bfc6c",
   "metadata": {},
   "outputs": [
    {
     "name": "stdout",
     "output_type": "stream",
     "text": [
      "\n",
      "Descriptive Statistics for Units Sold:\n",
      "count    20.000000\n",
      "mean     20.550000\n",
      "std       4.893336\n",
      "min      11.000000\n",
      "25%      17.000000\n",
      "50%      21.000000\n",
      "75%      24.000000\n",
      "max      29.000000\n",
      "Name: units_sold, dtype: float64\n",
      "\n",
      "Statistical Analysis:\n",
      "Mean Units Sold: 20.55\n",
      "Median Units Sold: 21.0\n",
      "Mode Units Sold: 21\n",
      "Variance of Units Sold: 23.94473684210526\n",
      "Standard Deviation of Units Sold: 4.893335962521403\n",
      "\n",
      "Category Statistics:\n",
      "      Category  Total Units Sold  Average Units Sold  Std Dev of Units Sold\n",
      "0     Clothing               133                19.0               6.557439\n",
      "1  Electronics               135                22.5               3.146427\n",
      "2         Home                43                21.5               4.949747\n",
      "3       Sports               100                20.0               4.472136\n"
     ]
    }
   ],
   "source": [
    "sales_data.describe()\n",
    "descriptive_stats = sales_data['units_sold'].describe()\n",
    "\n",
    "# Display descriptive statistics\n",
    "print(\"\\nDescriptive Statistics for Units Sold:\")\n",
    "print(descriptive_stats)\n",
    "\n",
    "# Additional statistics\n",
    "mean_sales = sales_data['units_sold'].mean()\n",
    "median_sales = sales_data['units_sold'].median()\n",
    "mode_sales = sales_data['units_sold'].mode()[0]\n",
    "variance_sales = sales_data['units_sold'].var()\n",
    "std_deviation_sales = sales_data['units_sold'].std()\n",
    "\n",
    "# Group by category and calculate total and average sales\n",
    "sales_data.head()\n",
    "category_stats=sales_data.groupby('category')['units_sold'].sum()\n",
    "\n",
    "# Group by category and calculate total and average sales\n",
    "category_stats = sales_data.groupby('category')['units_sold'].agg(['sum', 'mean', 'std']).reset_index()\n",
    "category_stats.columns = ['Category', 'Total Units Sold', 'Average Units Sold', 'Std Dev of Units Sold']\n",
    "\n",
    "# Display the results\n",
    "print(\"\\nStatistical Analysis:\")\n",
    "print(f\"Mean Units Sold: {mean_sales}\")\n",
    "print(f\"Median Units Sold: {median_sales}\")\n",
    "print(f\"Mode Units Sold: {mode_sales}\")\n",
    "print(f\"Variance of Units Sold: {variance_sales}\")\n",
    "print(f\"Standard Deviation of Units Sold: {std_deviation_sales}\")\n",
    "print(\"\\nCategory Statistics:\")\n",
    "print(category_stats)\n"
   ]
  },
  {
   "cell_type": "markdown",
   "id": "e65f777f",
   "metadata": {},
   "source": [
    "## Step 4: Inferential Statistics"
   ]
  },
  {
   "cell_type": "code",
   "execution_count": null,
   "id": "a67caac1",
   "metadata": {},
   "outputs": [],
   "source": [
    " "
   ]
  }
 ],
 "metadata": {
  "kernelspec": {
   "display_name": "Python 3",
   "language": "python",
   "name": "python3"
  },
  "language_info": {
   "codemirror_mode": {
    "name": "ipython",
    "version": 3
   },
   "file_extension": ".py",
   "mimetype": "text/x-python",
   "name": "python",
   "nbconvert_exporter": "python",
   "pygments_lexer": "ipython3",
   "version": "3.13.3"
  }
 },
 "nbformat": 4,
 "nbformat_minor": 5
}
