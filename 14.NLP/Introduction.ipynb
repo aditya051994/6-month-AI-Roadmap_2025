{
 "cells": [
  {
   "cell_type": "code",
   "execution_count": 2,
   "id": "4ef11477",
   "metadata": {},
   "outputs": [],
   "source": [
    "import os\n",
    "import nltk\n",
    "#nltk.download()"
   ]
  },
  {
   "cell_type": "code",
   "execution_count": 3,
   "id": "eb24f24c",
   "metadata": {},
   "outputs": [],
   "source": [
    "AI=\"Artificial Intelligence (AI) is a branch of computer science that focuses on creating systems capable of performing tasks that typically require human intelligence. These tasks include understanding natural language, recognizing patterns, solving problems, learning from experience, and making decisions.\""
   ]
  },
  {
   "cell_type": "code",
   "execution_count": 4,
   "id": "03e0967e",
   "metadata": {},
   "outputs": [
    {
     "data": {
      "text/plain": [
       "str"
      ]
     },
     "execution_count": 4,
     "metadata": {},
     "output_type": "execute_result"
    }
   ],
   "source": [
    "type(AI)"
   ]
  },
  {
   "cell_type": "code",
   "execution_count": 5,
   "id": "6e68cf6e",
   "metadata": {},
   "outputs": [],
   "source": [
    "from nltk.tokenize import word_tokenize\n",
    "AI_tokesn=word_tokenize(AI)"
   ]
  },
  {
   "cell_type": "code",
   "execution_count": 6,
   "id": "dbe04dd5",
   "metadata": {},
   "outputs": [
    {
     "name": "stdout",
     "output_type": "stream",
     "text": [
      "47\n"
     ]
    },
    {
     "data": {
      "text/plain": [
       "['Artificial',\n",
       " 'Intelligence',\n",
       " '(',\n",
       " 'AI',\n",
       " ')',\n",
       " 'is',\n",
       " 'a',\n",
       " 'branch',\n",
       " 'of',\n",
       " 'computer',\n",
       " 'science',\n",
       " 'that',\n",
       " 'focuses',\n",
       " 'on',\n",
       " 'creating',\n",
       " 'systems',\n",
       " 'capable',\n",
       " 'of',\n",
       " 'performing',\n",
       " 'tasks',\n",
       " 'that',\n",
       " 'typically',\n",
       " 'require',\n",
       " 'human',\n",
       " 'intelligence',\n",
       " '.',\n",
       " 'These',\n",
       " 'tasks',\n",
       " 'include',\n",
       " 'understanding',\n",
       " 'natural',\n",
       " 'language',\n",
       " ',',\n",
       " 'recognizing',\n",
       " 'patterns',\n",
       " ',',\n",
       " 'solving',\n",
       " 'problems',\n",
       " ',',\n",
       " 'learning',\n",
       " 'from',\n",
       " 'experience',\n",
       " ',',\n",
       " 'and',\n",
       " 'making',\n",
       " 'decisions',\n",
       " '.']"
      ]
     },
     "execution_count": 6,
     "metadata": {},
     "output_type": "execute_result"
    }
   ],
   "source": [
    "print(len(AI_tokesn))\n",
    "AI_tokesn"
   ]
  },
  {
   "cell_type": "code",
   "execution_count": 7,
   "id": "7094e572",
   "metadata": {},
   "outputs": [],
   "source": [
    "from nltk.tokenize import sent_tokenize\n",
    "sentToken=sent_tokenize(AI)\n"
   ]
  },
  {
   "cell_type": "code",
   "execution_count": 8,
   "id": "1085e5eb",
   "metadata": {},
   "outputs": [
    {
     "data": {
      "text/plain": [
       "2"
      ]
     },
     "execution_count": 8,
     "metadata": {},
     "output_type": "execute_result"
    }
   ],
   "source": [
    "len(sentToken)"
   ]
  },
  {
   "cell_type": "code",
   "execution_count": 9,
   "id": "53c99e62",
   "metadata": {},
   "outputs": [
    {
     "data": {
      "text/plain": [
       "1"
      ]
     },
     "execution_count": 9,
     "metadata": {},
     "output_type": "execute_result"
    }
   ],
   "source": [
    "from nltk.tokenize import blankline_tokenize\n",
    "AI_blank=blankline_tokenize(AI)\n",
    "len(AI_blank)"
   ]
  },
  {
   "cell_type": "code",
   "execution_count": 10,
   "id": "182deca0",
   "metadata": {},
   "outputs": [
    {
     "data": {
      "text/plain": [
       "['Artificial',\n",
       " 'Intelligence',\n",
       " '(AI)',\n",
       " 'is',\n",
       " 'a',\n",
       " 'branch',\n",
       " 'of',\n",
       " 'computer',\n",
       " 'science',\n",
       " 'that',\n",
       " 'focuses',\n",
       " 'on',\n",
       " 'creating',\n",
       " 'systems',\n",
       " 'capable',\n",
       " 'of',\n",
       " 'performing',\n",
       " 'tasks',\n",
       " 'that',\n",
       " 'typically',\n",
       " 'require',\n",
       " 'human',\n",
       " 'intelligence.',\n",
       " 'These',\n",
       " 'tasks',\n",
       " 'include',\n",
       " 'understanding',\n",
       " 'natural',\n",
       " 'language,',\n",
       " 'recognizing',\n",
       " 'patterns,',\n",
       " 'solving',\n",
       " 'problems,',\n",
       " 'learning',\n",
       " 'from',\n",
       " 'experience,',\n",
       " 'and',\n",
       " 'making',\n",
       " 'decisions.']"
      ]
     },
     "execution_count": 10,
     "metadata": {},
     "output_type": "execute_result"
    }
   ],
   "source": [
    "#White Space Tokenizer\n",
    "from nltk.tokenize import WhitespaceTokenizer\n",
    "wt=WhitespaceTokenizer().tokenize(AI)\n",
    "wt"
   ]
  },
  {
   "cell_type": "code",
   "execution_count": 11,
   "id": "5c7cd18e",
   "metadata": {},
   "outputs": [
    {
     "data": {
      "text/plain": [
       "39"
      ]
     },
     "execution_count": 11,
     "metadata": {},
     "output_type": "execute_result"
    }
   ],
   "source": [
    "len(wt)"
   ]
  },
  {
   "cell_type": "code",
   "execution_count": 12,
   "id": "4f313776",
   "metadata": {},
   "outputs": [
    {
     "data": {
      "text/plain": [
       "'Good apple cost $3.88 in hydrabad. Please buy two of them. Thanks.'"
      ]
     },
     "execution_count": 12,
     "metadata": {},
     "output_type": "execute_result"
    }
   ],
   "source": [
    "s=\"Good apple cost $3.88 in hydrabad. Please buy two of them. Thanks.\"\n",
    "s"
   ]
  },
  {
   "cell_type": "code",
   "execution_count": 13,
   "id": "a558840d",
   "metadata": {},
   "outputs": [
    {
     "name": "stdout",
     "output_type": "stream",
     "text": [
      "18\n",
      "47\n"
     ]
    }
   ],
   "source": [
    "from nltk.tokenize import wordpunct_tokenize\n",
    "w_p=wordpunct_tokenize(s)\n",
    "w_p_AI=word_tokenize(AI)\n",
    "print(len(w_p))\n",
    "print(len(w_p_AI))  "
   ]
  },
  {
   "cell_type": "code",
   "execution_count": 14,
   "id": "70a233d6",
   "metadata": {},
   "outputs": [
    {
     "data": {
      "text/plain": [
       "['Hello', 'World']"
      ]
     },
     "execution_count": 14,
     "metadata": {},
     "output_type": "execute_result"
    }
   ],
   "source": [
    "deleteME=\"Hello   World\"\n",
    "from nltk.tokenize import WhitespaceTokenizer\n",
    "wt=WhitespaceTokenizer().tokenize(deleteME)\n",
    "wt"
   ]
  },
  {
   "cell_type": "code",
   "execution_count": 15,
   "id": "21673187",
   "metadata": {},
   "outputs": [
    {
     "data": {
      "text/plain": [
       "['Hello', 'World']"
      ]
     },
     "execution_count": 15,
     "metadata": {},
     "output_type": "execute_result"
    }
   ],
   "source": [
    "deleteME=\"Hello   World\"\n",
    "from nltk.tokenize import wordpunct_tokenize\n",
    "wp=wordpunct_tokenize(deleteME)\n",
    "wp"
   ]
  },
  {
   "cell_type": "code",
   "execution_count": 16,
   "id": "332ca96f",
   "metadata": {},
   "outputs": [],
   "source": [
    "#Types of token\n",
    "from nltk.util import bigrams,trigrams,ngrams"
   ]
  },
  {
   "cell_type": "code",
   "execution_count": 17,
   "id": "69b6fd9c",
   "metadata": {},
   "outputs": [
    {
     "data": {
      "text/plain": [
       "['We', 'are', 'leaerner', 'of', 'prakash', 'senapathi', 'from', '4PM', 'batch']"
      ]
     },
     "execution_count": 17,
     "metadata": {},
     "output_type": "execute_result"
    }
   ],
   "source": [
    "str=\"We are leaerner of prakash senapathi from 4PM batch\"\n",
    "quotes_token=wordpunct_tokenize(str)\n",
    "quotes_token"
   ]
  },
  {
   "cell_type": "code",
   "execution_count": 18,
   "metadata": {},
   "outputs": [
    {
     "data": {
      "text/plain": [
       "9"
      ]
     },
     "execution_count": 18,
     "metadata": {},
     "output_type": "execute_result"
    }
   ],
   "source": [
    "len(quotes_token)"
   ]
  },
  {
   "cell_type": "code",
   "execution_count": 19,
   "metadata": {},
   "outputs": [
    {
     "data": {
      "text/plain": [
       "[('We', 'are'),\n",
       " ('are', 'leaerner'),\n",
       " ('leaerner', 'of'),\n",
       " ('of', 'prakash'),\n",
       " ('prakash', 'senapathi'),\n",
       " ('senapathi', 'from'),\n",
       " ('from', '4PM'),\n",
       " ('4PM', 'batch')]"
      ]
     },
     "execution_count": 19,
     "metadata": {},
     "output_type": "execute_result"
    }
   ],
   "source": [
    "quotes_bigram=list(nltk.bigrams(quotes_token))\n",
    "quotes_bigram"
   ]
  },
  {
   "cell_type": "code",
   "execution_count": 20,
   "id": "3917c5da",
   "metadata": {},
   "outputs": [
    {
     "data": {
      "text/plain": [
       "[('We', 'are', 'leaerner'),\n",
       " ('are', 'leaerner', 'of'),\n",
       " ('leaerner', 'of', 'prakash'),\n",
       " ('of', 'prakash', 'senapathi'),\n",
       " ('prakash', 'senapathi', 'from'),\n",
       " ('senapathi', 'from', '4PM'),\n",
       " ('from', '4PM', 'batch')]"
      ]
     },
     "execution_count": 20,
     "metadata": {},
     "output_type": "execute_result"
    }
   ],
   "source": [
    "quotes_bigram=list(nltk.trigrams(quotes_token))\n",
    "quotes_bigram"
   ]
  },
  {
   "cell_type": "code",
   "execution_count": 21,
   "metadata": {},
   "outputs": [
    {
     "data": {
      "text/plain": [
       "[('We', 'are', 'leaerner', 'of', 'prakash'),\n",
       " ('are', 'leaerner', 'of', 'prakash', 'senapathi'),\n",
       " ('leaerner', 'of', 'prakash', 'senapathi', 'from'),\n",
       " ('of', 'prakash', 'senapathi', 'from', '4PM'),\n",
       " ('prakash', 'senapathi', 'from', '4PM', 'batch')]"
      ]
     },
     "execution_count": 21,
     "metadata": {},
     "output_type": "execute_result"
    }
   ],
   "source": [
    "quotes_bigram=list(nltk.ngrams(quotes_token, 5))\n",
    "quotes_bigram"
   ]
  },
  {
   "cell_type": "code",
   "execution_count": 22,
   "id": "0e882db5",
   "metadata": {},
   "outputs": [],
   "source": [
    "from nltk.stem import PorterStemmer\n",
    "pst=PorterStemmer()"
   ]
  },
  {
   "cell_type": "code",
   "execution_count": 23,
   "metadata": {},
   "outputs": [
    {
     "data": {
      "text/plain": [
       "'run'"
      ]
     },
     "execution_count": 23,
     "metadata": {},
     "output_type": "execute_result"
    }
   ],
   "source": [
    "pst.stem(\"running\")"
   ]
  },
  {
   "cell_type": "code",
   "execution_count": 24,
   "id": "3ed3eb7d",
   "metadata": {},
   "outputs": [
    {
     "data": {
      "text/plain": [
       "'play'"
      ]
     },
     "execution_count": 24,
     "metadata": {},
     "output_type": "execute_result"
    }
   ],
   "source": [
    "pst.stem(\"playing\")"
   ]
  },
  {
   "cell_type": "code",
   "execution_count": 25,
   "metadata": {},
   "outputs": [
    {
     "data": {
      "text/plain": [
       "'afford'"
      ]
     },
     "execution_count": 25,
     "metadata": {},
     "output_type": "execute_result"
    }
   ],
   "source": [
    "pst.stem(\"affordable\")"
   ]
  },
  {
   "cell_type": "code",
   "execution_count": 26,
   "metadata": {},
   "outputs": [
    {
     "data": {
      "text/plain": [
       "'studi'"
      ]
     },
     "execution_count": 26,
     "metadata": {},
     "output_type": "execute_result"
    }
   ],
   "source": [
    "#not able to steam\n",
    "pst.stem(\"studies\")"
   ]
  },
  {
   "cell_type": "code",
   "execution_count": 27,
   "id": "a50243f0",
   "metadata": {},
   "outputs": [
    {
     "data": {
      "text/plain": [
       "'univers'"
      ]
     },
     "execution_count": 27,
     "metadata": {},
     "output_type": "execute_result"
    }
   ],
   "source": [
    "pst.stem(\"university\")"
   ]
  },
  {
   "cell_type": "code",
   "execution_count": 28,
   "id": "3760dc25",
   "metadata": {},
   "outputs": [
    {
     "name": "stdout",
     "output_type": "stream",
     "text": [
      "Original: give --->: give\n",
      "Original: giving --->: give\n",
      "Original: gave --->: gave\n",
      "Original: given --->: given\n"
     ]
    }
   ],
   "source": [
    "word_stem=['give','giving','gave','given']\n",
    "for i in word_stem:\n",
    "    print(f\"Original: {i} --->: {pst.stem(i)}\")"
   ]
  },
  {
   "cell_type": "code",
   "execution_count": 29,
   "metadata": {},
   "outputs": [
    {
     "data": {
      "text/plain": [
       "'play'"
      ]
     },
     "execution_count": 29,
     "metadata": {},
     "output_type": "execute_result"
    }
   ],
   "source": [
    "pst.stem(\"played\")"
   ]
  },
  {
   "cell_type": "code",
   "execution_count": 30,
   "metadata": {},
   "outputs": [
    {
     "name": "stdout",
     "output_type": "stream",
     "text": [
      "Original: give --->: give\n",
      "Original: giving --->: give\n",
      "Original: gave --->: gave\n",
      "Original: given --->: given\n",
      "Original: gaved --->: gave\n",
      "Original: thinking --->: think\n",
      "Original: maxium --->: maxium\n",
      "Original: AdityaBhonde --->: adityabhond\n"
     ]
    }
   ],
   "source": [
    "#It word fine with english letters and having (ing,ed)\n",
    "word_stem=['give','giving','gave','given','gaved','thinking','maxium','AdityaBhonde']\n",
    "for i in word_stem:\n",
    "    print(f\"Original: {i} --->: {pst.stem(i)}\")"
   ]
  },
  {
   "cell_type": "code",
   "execution_count": 31,
   "metadata": {},
   "outputs": [
    {
     "name": "stdout",
     "output_type": "stream",
     "text": [
      "Original: give --->: giv\n",
      "Original: giving --->: giv\n",
      "Original: gave --->: gav\n",
      "Original: given --->: giv\n",
      "Original: gaved --->: gav\n",
      "Original: thinking --->: think\n",
      "Original: maxium --->: max\n",
      "Original: loving --->: lov\n",
      "Original: AdityaBhonde --->: adityabhond\n"
     ]
    }
   ],
   "source": [
    "word_stem=['give','giving','gave','given','gaved','thinking','maxium','loving','AdityaBhonde']\n",
    "from nltk.stem import LancasterStemmer\n",
    "ls=LancasterStemmer()\n",
    "\n",
    "for i in word_stem:\n",
    "    print(f\"Original: {i} --->: {ls.stem(i)}\")"
   ]
  },
  {
   "cell_type": "code",
   "execution_count": 32,
   "metadata": {},
   "outputs": [
    {
     "name": "stdout",
     "output_type": "stream",
     "text": [
      "Original: give --->: give\n",
      "Original: giving --->: give\n",
      "Original: gave --->: gave\n",
      "Original: given --->: given\n",
      "Original: gaved --->: gave\n",
      "Original: thinking --->: think\n",
      "Original: maxium --->: maxium\n",
      "Original: loving --->: love\n",
      "Original: AdityaBhonde --->: adityabhond\n"
     ]
    }
   ],
   "source": [
    "word_stem=['give','giving','gave','given','gaved','thinking','maxium','loving','AdityaBhonde']\n",
    "from nltk.stem import SnowballStemmer\n",
    "snow_ball=SnowballStemmer('english')\n",
    "\n",
    "for i in word_stem:\n",
    "    print(f\"Original: {i} --->: {snow_ball.stem(i)}\")"
   ]
  },
  {
   "cell_type": "code",
   "execution_count": 33,
   "metadata": {},
   "outputs": [],
   "source": [
    "from nltk.stem import wordnet\n",
    "from nltk.stem import WordNetLemmatizer\n",
    "word_lem=WordNetLemmatizer()"
   ]
  },
  {
   "cell_type": "code",
   "execution_count": 34,
   "id": "e090bc91",
   "metadata": {},
   "outputs": [
    {
     "data": {
      "text/plain": [
       "['give',\n",
       " 'giving',\n",
       " 'gave',\n",
       " 'given',\n",
       " 'gaved',\n",
       " 'thinking',\n",
       " 'maxium',\n",
       " 'loving',\n",
       " 'AdityaBhonde']"
      ]
     },
     "execution_count": 34,
     "metadata": {},
     "output_type": "execute_result"
    }
   ],
   "source": [
    "word_stem"
   ]
  },
  {
   "cell_type": "code",
   "execution_count": 35,
   "id": "86465f84",
   "metadata": {},
   "outputs": [
    {
     "name": "stdout",
     "output_type": "stream",
     "text": [
      "Original: give --->: give\n",
      "Original: giving --->: giving\n",
      "Original: gave --->: gave\n",
      "Original: given --->: given\n",
      "Original: gaved --->: gaved\n",
      "Original: thinking --->: thinking\n",
      "Original: maxium --->: maxium\n",
      "Original: loving --->: loving\n",
      "Original: AdityaBhonde --->: AdityaBhonde\n"
     ]
    }
   ],
   "source": [
    "for i in word_stem:\n",
    "    print(f\"Original: {i} --->: {word_lem.lemmatize(i)}\")"
   ]
  },
  {
   "cell_type": "markdown",
   "id": "d98ba09e",
   "metadata": {},
   "source": []
  },
  {
   "cell_type": "code",
   "execution_count": 36,
   "id": "4a971908",
   "metadata": {},
   "outputs": [
    {
     "data": {
      "text/plain": [
       "'running'"
      ]
     },
     "execution_count": 36,
     "metadata": {},
     "output_type": "execute_result"
    }
   ],
   "source": [
    "word_lem.lemmatize('running')"
   ]
  },
  {
   "cell_type": "code",
   "execution_count": 37,
   "id": "34bfdb9c",
   "metadata": {},
   "outputs": [
    {
     "data": {
      "text/plain": [
       "['一',\n",
       " '一下',\n",
       " '一些',\n",
       " '一切',\n",
       " '一则',\n",
       " '一天',\n",
       " '一定',\n",
       " '一方面',\n",
       " '一旦',\n",
       " '一时',\n",
       " '一来',\n",
       " '一样',\n",
       " '一次',\n",
       " '一片',\n",
       " '一直',\n",
       " '一致',\n",
       " '一般',\n",
       " '一起',\n",
       " '一边',\n",
       " '一面',\n",
       " '万一',\n",
       " '上下',\n",
       " '上升',\n",
       " '上去',\n",
       " '上来',\n",
       " '上述',\n",
       " '上面',\n",
       " '下列',\n",
       " '下去',\n",
       " '下来',\n",
       " '下面',\n",
       " '不一',\n",
       " '不久',\n",
       " '不仅',\n",
       " '不会',\n",
       " '不但',\n",
       " '不光',\n",
       " '不单',\n",
       " '不变',\n",
       " '不只',\n",
       " '不可',\n",
       " '不同',\n",
       " '不够',\n",
       " '不如',\n",
       " '不得',\n",
       " '不怕',\n",
       " '不惟',\n",
       " '不成',\n",
       " '不拘',\n",
       " '不敢',\n",
       " '不断',\n",
       " '不是',\n",
       " '不比',\n",
       " '不然',\n",
       " '不特',\n",
       " '不独',\n",
       " '不管',\n",
       " '不能',\n",
       " '不要',\n",
       " '不论',\n",
       " '不足',\n",
       " '不过',\n",
       " '不问',\n",
       " '与',\n",
       " '与其',\n",
       " '与否',\n",
       " '与此同时',\n",
       " '专门',\n",
       " '且',\n",
       " '两者',\n",
       " '严格',\n",
       " '严重',\n",
       " '个',\n",
       " '个人',\n",
       " '个别',\n",
       " '中小',\n",
       " '中间',\n",
       " '丰富',\n",
       " '临',\n",
       " '为',\n",
       " '为主',\n",
       " '为了',\n",
       " '为什么',\n",
       " '为什麽',\n",
       " '为何',\n",
       " '为着',\n",
       " '主张',\n",
       " '主要',\n",
       " '举行',\n",
       " '乃',\n",
       " '乃至',\n",
       " '么',\n",
       " '之',\n",
       " '之一',\n",
       " '之前',\n",
       " '之后',\n",
       " '之後',\n",
       " '之所以',\n",
       " '之类',\n",
       " '乌乎',\n",
       " '乎',\n",
       " '乘',\n",
       " '也',\n",
       " '也好',\n",
       " '也是',\n",
       " '也罢',\n",
       " '了',\n",
       " '了解',\n",
       " '争取',\n",
       " '于',\n",
       " '于是',\n",
       " '于是乎',\n",
       " '云云',\n",
       " '互相',\n",
       " '产生',\n",
       " '人们',\n",
       " '人家',\n",
       " '什么',\n",
       " '什么样',\n",
       " '什麽',\n",
       " '今后',\n",
       " '今天',\n",
       " '今年',\n",
       " '今後',\n",
       " '仍然',\n",
       " '从',\n",
       " '从事',\n",
       " '从而',\n",
       " '他',\n",
       " '他人',\n",
       " '他们',\n",
       " '他的',\n",
       " '代替',\n",
       " '以',\n",
       " '以上',\n",
       " '以下',\n",
       " '以为',\n",
       " '以便',\n",
       " '以免',\n",
       " '以前',\n",
       " '以及',\n",
       " '以后',\n",
       " '以外',\n",
       " '以後',\n",
       " '以来',\n",
       " '以至',\n",
       " '以至于',\n",
       " '以致',\n",
       " '们',\n",
       " '任',\n",
       " '任何',\n",
       " '任凭',\n",
       " '任务',\n",
       " '企图',\n",
       " '伟大',\n",
       " '似乎',\n",
       " '似的',\n",
       " '但',\n",
       " '但是',\n",
       " '何',\n",
       " '何况',\n",
       " '何处',\n",
       " '何时',\n",
       " '作为',\n",
       " '你',\n",
       " '你们',\n",
       " '你的',\n",
       " '使得',\n",
       " '使用',\n",
       " '例如',\n",
       " '依',\n",
       " '依照',\n",
       " '依靠',\n",
       " '促进',\n",
       " '保持',\n",
       " '俺',\n",
       " '俺们',\n",
       " '倘',\n",
       " '倘使',\n",
       " '倘或',\n",
       " '倘然',\n",
       " '倘若',\n",
       " '假使',\n",
       " '假如',\n",
       " '假若',\n",
       " '做到',\n",
       " '像',\n",
       " '允许',\n",
       " '充分',\n",
       " '先后',\n",
       " '先後',\n",
       " '先生',\n",
       " '全部',\n",
       " '全面',\n",
       " '兮',\n",
       " '共同',\n",
       " '关于',\n",
       " '其',\n",
       " '其一',\n",
       " '其中',\n",
       " '其二',\n",
       " '其他',\n",
       " '其余',\n",
       " '其它',\n",
       " '其实',\n",
       " '其次',\n",
       " '具体',\n",
       " '具体地说',\n",
       " '具体说来',\n",
       " '具有',\n",
       " '再者',\n",
       " '再说',\n",
       " '冒',\n",
       " '冲',\n",
       " '决定',\n",
       " '况且',\n",
       " '准备',\n",
       " '几',\n",
       " '几乎',\n",
       " '几时',\n",
       " '凭',\n",
       " '凭借',\n",
       " '出去',\n",
       " '出来',\n",
       " '出现',\n",
       " '分别',\n",
       " '则',\n",
       " '别',\n",
       " '别的',\n",
       " '别说',\n",
       " '到',\n",
       " '前后',\n",
       " '前者',\n",
       " '前进',\n",
       " '前面',\n",
       " '加之',\n",
       " '加以',\n",
       " '加入',\n",
       " '加强',\n",
       " '十分',\n",
       " '即',\n",
       " '即令',\n",
       " '即使',\n",
       " '即便',\n",
       " '即或',\n",
       " '即若',\n",
       " '却不',\n",
       " '原来',\n",
       " '又',\n",
       " '及',\n",
       " '及其',\n",
       " '及时',\n",
       " '及至',\n",
       " '双方',\n",
       " '反之',\n",
       " '反应',\n",
       " '反映',\n",
       " '反过来',\n",
       " '反过来说',\n",
       " '取得',\n",
       " '受到',\n",
       " '变成',\n",
       " '另',\n",
       " '另一方面',\n",
       " '另外',\n",
       " '只是',\n",
       " '只有',\n",
       " '只要',\n",
       " '只限',\n",
       " '叫',\n",
       " '叫做',\n",
       " '召开',\n",
       " '叮咚',\n",
       " '可',\n",
       " '可以',\n",
       " '可是',\n",
       " '可能',\n",
       " '可见',\n",
       " '各',\n",
       " '各个',\n",
       " '各人',\n",
       " '各位',\n",
       " '各地',\n",
       " '各种',\n",
       " '各级',\n",
       " '各自',\n",
       " '合理',\n",
       " '同',\n",
       " '同一',\n",
       " '同时',\n",
       " '同样',\n",
       " '后来',\n",
       " '后面',\n",
       " '向',\n",
       " '向着',\n",
       " '吓',\n",
       " '吗',\n",
       " '否则',\n",
       " '吧',\n",
       " '吧哒',\n",
       " '吱',\n",
       " '呀',\n",
       " '呃',\n",
       " '呕',\n",
       " '呗',\n",
       " '呜',\n",
       " '呜呼',\n",
       " '呢',\n",
       " '周围',\n",
       " '呵',\n",
       " '呸',\n",
       " '呼哧',\n",
       " '咋',\n",
       " '和',\n",
       " '咚',\n",
       " '咦',\n",
       " '咱',\n",
       " '咱们',\n",
       " '咳',\n",
       " '哇',\n",
       " '哈',\n",
       " '哈哈',\n",
       " '哉',\n",
       " '哎',\n",
       " '哎呀',\n",
       " '哎哟',\n",
       " '哗',\n",
       " '哟',\n",
       " '哦',\n",
       " '哩',\n",
       " '哪',\n",
       " '哪个',\n",
       " '哪些',\n",
       " '哪儿',\n",
       " '哪天',\n",
       " '哪年',\n",
       " '哪怕',\n",
       " '哪样',\n",
       " '哪边',\n",
       " '哪里',\n",
       " '哼',\n",
       " '哼唷',\n",
       " '唉',\n",
       " '啊',\n",
       " '啐',\n",
       " '啥',\n",
       " '啦',\n",
       " '啪达',\n",
       " '喂',\n",
       " '喏',\n",
       " '喔唷',\n",
       " '嗡嗡',\n",
       " '嗬',\n",
       " '嗯',\n",
       " '嗳',\n",
       " '嘎',\n",
       " '嘎登',\n",
       " '嘘',\n",
       " '嘛',\n",
       " '嘻',\n",
       " '嘿',\n",
       " '因',\n",
       " '因为',\n",
       " '因此',\n",
       " '因而',\n",
       " '固然',\n",
       " '在',\n",
       " '在下',\n",
       " '地',\n",
       " '坚决',\n",
       " '坚持',\n",
       " '基本',\n",
       " '处理',\n",
       " '复杂',\n",
       " '多',\n",
       " '多少',\n",
       " '多数',\n",
       " '多次',\n",
       " '大力',\n",
       " '大多数',\n",
       " '大大',\n",
       " '大家',\n",
       " '大批',\n",
       " '大约',\n",
       " '大量',\n",
       " '失去',\n",
       " '她',\n",
       " '她们',\n",
       " '她的',\n",
       " '好的',\n",
       " '好象',\n",
       " '如',\n",
       " '如上所述',\n",
       " '如下',\n",
       " '如何',\n",
       " '如其',\n",
       " '如果',\n",
       " '如此',\n",
       " '如若',\n",
       " '存在',\n",
       " '宁',\n",
       " '宁可',\n",
       " '宁愿',\n",
       " '宁肯',\n",
       " '它',\n",
       " '它们',\n",
       " '它们的',\n",
       " '它的',\n",
       " '安全',\n",
       " '完全',\n",
       " '完成',\n",
       " '实现',\n",
       " '实际',\n",
       " '宣布',\n",
       " '容易',\n",
       " '密切',\n",
       " '对',\n",
       " '对于',\n",
       " '对应',\n",
       " '将',\n",
       " '少数',\n",
       " '尔后',\n",
       " '尚且',\n",
       " '尤其',\n",
       " '就',\n",
       " '就是',\n",
       " '就是说',\n",
       " '尽',\n",
       " '尽管',\n",
       " '属于',\n",
       " '岂但',\n",
       " '左右',\n",
       " '巨大',\n",
       " '巩固',\n",
       " '己',\n",
       " '已经',\n",
       " '帮助',\n",
       " '常常',\n",
       " '并',\n",
       " '并不',\n",
       " '并不是',\n",
       " '并且',\n",
       " '并没有',\n",
       " '广大',\n",
       " '广泛',\n",
       " '应当',\n",
       " '应用',\n",
       " '应该',\n",
       " '开外',\n",
       " '开始',\n",
       " '开展',\n",
       " '引起',\n",
       " '强烈',\n",
       " '强调',\n",
       " '归',\n",
       " '当',\n",
       " '当前',\n",
       " '当时',\n",
       " '当然',\n",
       " '当着',\n",
       " '形成',\n",
       " '彻底',\n",
       " '彼',\n",
       " '彼此',\n",
       " '往',\n",
       " '往往',\n",
       " '待',\n",
       " '後来',\n",
       " '後面',\n",
       " '得',\n",
       " '得出',\n",
       " '得到',\n",
       " '心里',\n",
       " '必然',\n",
       " '必要',\n",
       " '必须',\n",
       " '怎',\n",
       " '怎么',\n",
       " '怎么办',\n",
       " '怎么样',\n",
       " '怎样',\n",
       " '怎麽',\n",
       " '总之',\n",
       " '总是',\n",
       " '总的来看',\n",
       " '总的来说',\n",
       " '总的说来',\n",
       " '总结',\n",
       " '总而言之',\n",
       " '恰恰相反',\n",
       " '您',\n",
       " '意思',\n",
       " '愿意',\n",
       " '慢说',\n",
       " '成为',\n",
       " '我',\n",
       " '我们',\n",
       " '我的',\n",
       " '或',\n",
       " '或是',\n",
       " '或者',\n",
       " '战斗',\n",
       " '所',\n",
       " '所以',\n",
       " '所有',\n",
       " '所谓',\n",
       " '打',\n",
       " '扩大',\n",
       " '把',\n",
       " '抑或',\n",
       " '拿',\n",
       " '按',\n",
       " '按照',\n",
       " '换句话说',\n",
       " '换言之',\n",
       " '据',\n",
       " '掌握',\n",
       " '接着',\n",
       " '接著',\n",
       " '故',\n",
       " '故此',\n",
       " '整个',\n",
       " '方便',\n",
       " '方面',\n",
       " '旁人',\n",
       " '无宁',\n",
       " '无法',\n",
       " '无论',\n",
       " '既',\n",
       " '既是',\n",
       " '既然',\n",
       " '时候',\n",
       " '明显',\n",
       " '明确',\n",
       " '是',\n",
       " '是否',\n",
       " '是的',\n",
       " '显然',\n",
       " '显著',\n",
       " '普通',\n",
       " '普遍',\n",
       " '更加',\n",
       " '曾经',\n",
       " '替',\n",
       " '最后',\n",
       " '最大',\n",
       " '最好',\n",
       " '最後',\n",
       " '最近',\n",
       " '最高',\n",
       " '有',\n",
       " '有些',\n",
       " '有关',\n",
       " '有利',\n",
       " '有力',\n",
       " '有所',\n",
       " '有效',\n",
       " '有时',\n",
       " '有点',\n",
       " '有的',\n",
       " '有着',\n",
       " '有著',\n",
       " '望',\n",
       " '朝',\n",
       " '朝着',\n",
       " '本',\n",
       " '本着',\n",
       " '来',\n",
       " '来着',\n",
       " '极了',\n",
       " '构成',\n",
       " '果然',\n",
       " '果真',\n",
       " '某',\n",
       " '某个',\n",
       " '某些',\n",
       " '根据',\n",
       " '根本',\n",
       " '欢迎',\n",
       " '正在',\n",
       " '正如',\n",
       " '正常',\n",
       " '此',\n",
       " '此外',\n",
       " '此时',\n",
       " '此间',\n",
       " '毋宁',\n",
       " '每',\n",
       " '每个',\n",
       " '每天',\n",
       " '每年',\n",
       " '每当',\n",
       " '比',\n",
       " '比如',\n",
       " '比方',\n",
       " '比较',\n",
       " '毫不',\n",
       " '没有',\n",
       " '沿',\n",
       " '沿着',\n",
       " '注意',\n",
       " '深入',\n",
       " '清楚',\n",
       " '满足',\n",
       " '漫说',\n",
       " '焉',\n",
       " '然则',\n",
       " '然后',\n",
       " '然後',\n",
       " '然而',\n",
       " '照',\n",
       " '照着',\n",
       " '特别是',\n",
       " '特殊',\n",
       " '特点',\n",
       " '现代',\n",
       " '现在',\n",
       " '甚么',\n",
       " '甚而',\n",
       " '甚至',\n",
       " '用',\n",
       " '由',\n",
       " '由于',\n",
       " '由此可见',\n",
       " '的',\n",
       " '的话',\n",
       " '目前',\n",
       " '直到',\n",
       " '直接',\n",
       " '相似',\n",
       " '相信',\n",
       " '相反',\n",
       " '相同',\n",
       " '相对',\n",
       " '相对而言',\n",
       " '相应',\n",
       " '相当',\n",
       " '相等',\n",
       " '省得',\n",
       " '看出',\n",
       " '看到',\n",
       " '看来',\n",
       " '看看',\n",
       " '看见',\n",
       " '真是',\n",
       " '真正',\n",
       " '着',\n",
       " '着呢',\n",
       " '矣',\n",
       " '知道',\n",
       " '确定',\n",
       " '离',\n",
       " '积极',\n",
       " '移动',\n",
       " '突出',\n",
       " '突然',\n",
       " '立即',\n",
       " '第',\n",
       " '等',\n",
       " '等等',\n",
       " '管',\n",
       " '紧接着',\n",
       " '纵',\n",
       " '纵令',\n",
       " '纵使',\n",
       " '纵然',\n",
       " '练习',\n",
       " '组成',\n",
       " '经',\n",
       " '经常',\n",
       " '经过',\n",
       " '结合',\n",
       " '结果',\n",
       " '给',\n",
       " '绝对',\n",
       " '继续',\n",
       " '继而',\n",
       " '维持',\n",
       " '综上所述',\n",
       " '罢了',\n",
       " '考虑',\n",
       " '者',\n",
       " '而',\n",
       " '而且',\n",
       " '而况',\n",
       " '而外',\n",
       " '而已',\n",
       " '而是',\n",
       " '而言',\n",
       " '联系',\n",
       " '能',\n",
       " '能否',\n",
       " '能够',\n",
       " '腾',\n",
       " '自',\n",
       " '自个儿',\n",
       " '自从',\n",
       " '自各儿',\n",
       " '自家',\n",
       " '自己',\n",
       " '自身',\n",
       " '至',\n",
       " '至于',\n",
       " '良好',\n",
       " '若',\n",
       " '若是',\n",
       " '若非',\n",
       " '范围',\n",
       " '莫若',\n",
       " '获得',\n",
       " '虽',\n",
       " '虽则',\n",
       " '虽然',\n",
       " '虽说',\n",
       " '行为',\n",
       " '行动',\n",
       " '表明',\n",
       " '表示',\n",
       " '被',\n",
       " '要',\n",
       " '要不',\n",
       " '要不是',\n",
       " '要不然',\n",
       " '要么',\n",
       " '要是',\n",
       " '要求',\n",
       " '规定',\n",
       " '觉得',\n",
       " '认为',\n",
       " '认真',\n",
       " '认识',\n",
       " '让',\n",
       " '许多',\n",
       " '论',\n",
       " '设使',\n",
       " '设若',\n",
       " '该',\n",
       " '说明',\n",
       " '诸位',\n",
       " '谁',\n",
       " '谁知',\n",
       " '赶',\n",
       " '起',\n",
       " '起来',\n",
       " '起见',\n",
       " '趁',\n",
       " '趁着',\n",
       " '越是',\n",
       " '跟',\n",
       " '转动',\n",
       " '转变',\n",
       " '转贴',\n",
       " '较',\n",
       " '较之',\n",
       " '边',\n",
       " '达到',\n",
       " '迅速',\n",
       " '过',\n",
       " '过去',\n",
       " '过来',\n",
       " '运用',\n",
       " '还是',\n",
       " '还有',\n",
       " '这',\n",
       " '这个',\n",
       " '这么',\n",
       " '这么些',\n",
       " '这么样',\n",
       " '这么点儿',\n",
       " '这些',\n",
       " '这会儿',\n",
       " '这儿',\n",
       " '这就是说',\n",
       " '这时',\n",
       " '这样',\n",
       " '这点',\n",
       " '这种',\n",
       " '这边',\n",
       " '这里',\n",
       " '这麽',\n",
       " '进入',\n",
       " '进步',\n",
       " '进而',\n",
       " '进行',\n",
       " '连',\n",
       " '连同',\n",
       " '适应',\n",
       " '适当',\n",
       " '适用',\n",
       " '逐步',\n",
       " '逐渐',\n",
       " '通常',\n",
       " '通过',\n",
       " '造成',\n",
       " '遇到',\n",
       " '遭到',\n",
       " '避免',\n",
       " '那',\n",
       " '那个',\n",
       " '那么',\n",
       " '那么些',\n",
       " '那么样',\n",
       " '那些',\n",
       " '那会儿',\n",
       " '那儿',\n",
       " '那时',\n",
       " '那样',\n",
       " '那边',\n",
       " '那里',\n",
       " '那麽',\n",
       " '部分',\n",
       " '鄙人',\n",
       " '采取',\n",
       " '里面',\n",
       " '重大',\n",
       " '重新',\n",
       " '重要',\n",
       " '鉴于',\n",
       " '问题',\n",
       " '防止',\n",
       " '阿',\n",
       " '附近',\n",
       " '限制',\n",
       " '除',\n",
       " '除了',\n",
       " '除此之外',\n",
       " '除非',\n",
       " '随',\n",
       " '随着',\n",
       " '随著',\n",
       " '集中',\n",
       " '需要',\n",
       " '非但',\n",
       " '非常',\n",
       " '非徒',\n",
       " '靠',\n",
       " '顺',\n",
       " '顺着',\n",
       " '首先',\n",
       " '高兴',\n",
       " '是不是']"
      ]
     },
     "execution_count": 37,
     "metadata": {},
     "output_type": "execute_result"
    }
   ],
   "source": [
    "from nltk.corpus import stopwords\n",
    "stopwords.words('chinese')"
   ]
  },
  {
   "cell_type": "code",
   "execution_count": 38,
   "id": "5c21a12d",
   "metadata": {},
   "outputs": [
    {
     "data": {
      "text/plain": [
       "['same', 'is', 'natural', 'when', 'it', 'comes', 'to', 'drawing']"
      ]
     },
     "execution_count": 38,
     "metadata": {},
     "output_type": "execute_result"
    }
   ],
   "source": [
    "sent=\"same is natural when it comes to drawing\"\n",
    "sent_words=word_tokenize(sent)\n",
    "sent_words"
   ]
  },
  {
   "cell_type": "code",
   "execution_count": 39,
   "id": "f52b682b",
   "metadata": {},
   "outputs": [
    {
     "name": "stdout",
     "output_type": "stream",
     "text": [
      "[('same', 'JJ')]\n",
      "[('is', 'VBZ')]\n",
      "[('natural', 'JJ')]\n",
      "[('when', 'WRB')]\n",
      "[('it', 'PRP')]\n",
      "[('comes', 'VBZ')]\n",
      "[('to', 'TO')]\n",
      "[('drawing', 'VBG')]\n"
     ]
    }
   ],
   "source": [
    "for token in sent_words:    \n",
    "        print(nltk.pos_tag([token]))"
   ]
  },
  {
   "cell_type": "code",
   "execution_count": 40,
   "id": "fafc0006",
   "metadata": {},
   "outputs": [],
   "source": [
    "##Session -2"
   ]
  },
  {
   "cell_type": "code",
   "execution_count": null,
   "id": "bce40960",
   "metadata": {},
   "outputs": [],
   "source": [
    "#chunk\n",
    "from nltk import ne_chunk"
   ]
  },
  {
   "cell_type": "code",
   "execution_count": 42,
   "id": "fc6e5b62",
   "metadata": {},
   "outputs": [],
   "source": [
    "NE_Sent=\"The US president stays in the WHITEHOUSE\""
   ]
  },
  {
   "cell_type": "code",
   "execution_count": 44,
   "id": "18edb405",
   "metadata": {},
   "outputs": [
    {
     "data": {
      "text/plain": [
       "['The', 'US', 'president', 'stays', 'in', 'the', 'WHITEHOUSE']"
      ]
     },
     "execution_count": 44,
     "metadata": {},
     "output_type": "execute_result"
    }
   ],
   "source": [
    "NE_token=word_tokenize(NE_Sent)\n",
    "NE_token"
   ]
  },
  {
   "cell_type": "code",
   "execution_count": 45,
   "id": "1a5fa4eb",
   "metadata": {},
   "outputs": [
    {
     "data": {
      "text/plain": [
       "[('The', 'DT'),\n",
       " ('US', 'NNP'),\n",
       " ('president', 'NN'),\n",
       " ('stays', 'NNS'),\n",
       " ('in', 'IN'),\n",
       " ('the', 'DT'),\n",
       " ('WHITEHOUSE', 'NNP')]"
      ]
     },
     "execution_count": 45,
     "metadata": {},
     "output_type": "execute_result"
    }
   ],
   "source": [
    "NE_Tags=nltk.pos_tag(NE_token)\n",
    "NE_Tags"
   ]
  },
  {
   "cell_type": "code",
   "execution_count": 47,
   "id": "5b6cec76",
   "metadata": {},
   "outputs": [
    {
     "name": "stdout",
     "output_type": "stream",
     "text": [
      "(S\n",
      "  The/DT\n",
      "  (GSP US/NNP)\n",
      "  president/NN\n",
      "  stays/NNS\n",
      "  in/IN\n",
      "  the/DT\n",
      "  (ORGANIZATION WHITEHOUSE/NNP))\n"
     ]
    }
   ],
   "source": [
    "NE_NER=ne_chunk(NE_Tags)\n",
    "print(NE_NER)"
   ]
  },
  {
   "cell_type": "code",
   "execution_count": null,
   "id": "843bd974",
   "metadata": {},
   "outputs": [],
   "source": [
    "#NLG"
   ]
  },
  {
   "cell_type": "code",
   "execution_count": null,
   "id": "e2695963",
   "metadata": {},
   "outputs": [
    {
     "name": "stdout",
     "output_type": "stream",
     "text": [
      "Collecting wordCloud\n",
      "  Downloading wordcloud-1.9.4-cp313-cp313-win_amd64.whl.metadata (3.5 kB)\n",
      "Requirement already satisfied: numpy>=1.6.1 in c:\\users\\a864911\\appdata\\local\\programs\\python\\python313\\lib\\site-packages (from wordCloud) (2.2.6)\n",
      "Requirement already satisfied: pillow in c:\\users\\a864911\\appdata\\local\\programs\\python\\python313\\lib\\site-packages (from wordCloud) (11.2.1)\n",
      "Requirement already satisfied: matplotlib in c:\\users\\a864911\\appdata\\local\\programs\\python\\python313\\lib\\site-packages (from wordCloud) (3.10.3)\n",
      "Requirement already satisfied: contourpy>=1.0.1 in c:\\users\\a864911\\appdata\\local\\programs\\python\\python313\\lib\\site-packages (from matplotlib->wordCloud) (1.3.2)\n",
      "Requirement already satisfied: cycler>=0.10 in c:\\users\\a864911\\appdata\\local\\programs\\python\\python313\\lib\\site-packages (from matplotlib->wordCloud) (0.12.1)\n",
      "Requirement already satisfied: fonttools>=4.22.0 in c:\\users\\a864911\\appdata\\local\\programs\\python\\python313\\lib\\site-packages (from matplotlib->wordCloud) (4.58.1)\n",
      "Requirement already satisfied: kiwisolver>=1.3.1 in c:\\users\\a864911\\appdata\\local\\programs\\python\\python313\\lib\\site-packages (from matplotlib->wordCloud) (1.4.8)\n",
      "Requirement already satisfied: packaging>=20.0 in c:\\users\\a864911\\appdata\\local\\programs\\python\\python313\\lib\\site-packages (from matplotlib->wordCloud) (24.2)\n",
      "Requirement already satisfied: pyparsing>=2.3.1 in c:\\users\\a864911\\appdata\\local\\programs\\python\\python313\\lib\\site-packages (from matplotlib->wordCloud) (3.2.3)\n",
      "Requirement already satisfied: python-dateutil>=2.7 in c:\\users\\a864911\\appdata\\roaming\\python\\python313\\site-packages (from matplotlib->wordCloud) (2.9.0.post0)\n",
      "Requirement already satisfied: six>=1.5 in c:\\users\\a864911\\appdata\\roaming\\python\\python313\\site-packages (from python-dateutil>=2.7->matplotlib->wordCloud) (1.17.0)\n",
      "Downloading wordcloud-1.9.4-cp313-cp313-win_amd64.whl (300 kB)\n",
      "Installing collected packages: wordCloud\n",
      "Successfully installed wordCloud-1.9.4\n",
      "Note: you may need to restart the kernel to use updated packages.\n"
     ]
    },
    {
     "name": "stderr",
     "output_type": "stream",
     "text": [
      "\n",
      "[notice] A new release of pip is available: 25.1.1 -> 25.2\n",
      "[notice] To update, run: python.exe -m pip install --upgrade pip\n"
     ]
    }
   ],
   "source": [
    "#pip install wordCloud"
   ]
  },
  {
   "cell_type": "code",
   "execution_count": 50,
   "id": "c298bd01",
   "metadata": {},
   "outputs": [],
   "source": [
    "from wordcloud import WordCloud\n",
    "import matplotlib.pyplot as plt"
   ]
  },
  {
   "cell_type": "code",
   "execution_count": 53,
   "id": "7ff6952b",
   "metadata": {},
   "outputs": [],
   "source": [
    "text=\"Python Python Pyhon Matplotls Maiplotla Seaborn Network Plot Violin Chart Pandas Datascence Wordeloud Spider Radar Parallel Alpha Color Brewer Density Scatter Barplot BarploYBoxpotVilinplot Treemap Stacked Area Chart Chart Visualization Dataviz Dorut Pe Time Series Wordcloud Wordcloud Sankey Bubble\""
   ]
  },
  {
   "cell_type": "code",
   "execution_count": 54,
   "id": "a3a468f2",
   "metadata": {},
   "outputs": [
    {
     "data": {
      "text/plain": [
       "'Python Python Pyhon Matplotls Maiplotla Seaborn Network Plot Violin Chart Pandas Datascence Wordeloud Spider Radar Parallel Alpha Color Brewer Density Scatter Barplot BarploYBoxpotVilinplot Treemap Stacked Area Chart Chart Visualization Dataviz Dorut Pe Time Series Wordcloud Wordcloud Sankey Bubble'"
      ]
     },
     "execution_count": 54,
     "metadata": {},
     "output_type": "execute_result"
    }
   ],
   "source": [
    "text"
   ]
  },
  {
   "cell_type": "code",
   "execution_count": 55,
   "id": "702d558c",
   "metadata": {},
   "outputs": [],
   "source": [
    "wordcloud=WordCloud(width=420,height=200,margin=2,background_color='black',colormap='Accent',mode='RGBA').generate(text)    "
   ]
  },
  {
   "cell_type": "code",
   "execution_count": 58,
   "id": "3a6fe284",
   "metadata": {},
   "outputs": [
    {
     "data": {
      "image/png": "[encoded data removed]",
      "text/plain": [
       "<Figure size 640x480 with 1 Axes>"
      ]
     },
     "metadata": {},
     "output_type": "display_data"
    }
   ],
   "source": [
    "plt.imshow(wordcloud, interpolation='quadric')\n",
    "plt.axis('off')  # Hide the axes\n",
    "plt.margins(x=0,y=0)\n",
    "plt.show()"
   ]
  },
  {
   "cell_type": "code",
   "execution_count": 59,
   "id": "cc1a99c7",
   "metadata": {},
   "outputs": [],
   "source": [
    "## Assignment"
   ]
  },
  {
   "cell_type": "code",
   "execution_count": 60,
   "id": "3c239040",
   "metadata": {},
   "outputs": [],
   "source": [
    "paragreph = \"\"\"Al machine leering and deap learning are common terms in enterprise\n",
    "FT and sometimes used interchangeably, especially by companies in their marketing materials\n",
    "‘there are dltinctons. The term A, coined inthe 1950s, refers to the simulation of human\n",
    "Inteligence by machines. covers an ever-changing et of capabilities as new technologies\n",
    "are developed. Technologies that come under the umbrella ofA nckide machine learning and\n",
    "‘dep learning. Machine learning enables software applications to become more accurate at\n",
    "Predicting outcomes without being explicitly programmed todo so. Machine learing algorithms\n",
    "Use historical data as input to predict new output values. This approzch became vastly more\n",
    "fective wit the rise of large dataset to train on. Deep learning, a subset of machine\n",
    "learning is based on cur understanding of how the bain is structured. Deep learing \n",
    "use of artificial neural networks structures the underpinning of recent advances in Al,\n",
    "including selt-ving cars and ChatGPT\"\"\""
   ]
  },
  {
   "cell_type": "code",
   "execution_count": 63,
   "id": "c2bae8b3",
   "metadata": {},
   "outputs": [
    {
     "data": {
      "text/plain": [
       "['Al machine leering and deap learning are common terms in enterprise\\nFT and sometimes used interchangeably, especially by companies in their marketing materials\\n‘there are dltinctons.',\n",
       " 'The term A, coined inthe 1950s, refers to the simulation of human\\nInteligence by machines.',\n",
       " 'covers an ever-changing et of capabilities as new technologies\\nare developed.',\n",
       " 'Technologies that come under the umbrella ofA nckide machine learning and\\n‘dep learning.',\n",
       " 'Machine learning enables software applications to become more accurate at\\nPredicting outcomes without being explicitly programmed todo so.',\n",
       " 'Machine learing algorithms\\nUse historical data as input to predict new output values.',\n",
       " 'This approzch became vastly more\\nfective wit the rise of large dataset to train on.',\n",
       " 'Deep learning, a subset of machine\\nlearning is based on cur understanding of how the bain is structured.',\n",
       " 'Deep learing \\nuse of artificial neural networks structures the underpinning of recent advances in Al,\\nincluding selt-ving cars and ChatGPT']"
      ]
     },
     "execution_count": 63,
     "metadata": {},
     "output_type": "execute_result"
    }
   ],
   "source": [
    "sentense=sent_tokenize(paragreph)\n",
    "sentense"
   ]
  },
  {
   "cell_type": "code",
   "execution_count": 65,
   "id": "cf5b3cf5",
   "metadata": {},
   "outputs": [
    {
     "data": {
      "text/plain": [
       "['Al',\n",
       " 'machine',\n",
       " 'leering',\n",
       " 'and',\n",
       " 'deap',\n",
       " 'learning',\n",
       " 'are',\n",
       " 'common',\n",
       " 'terms',\n",
       " 'in',\n",
       " 'enterprise',\n",
       " 'FT',\n",
       " 'and',\n",
       " 'sometimes',\n",
       " 'used',\n",
       " 'interchangeably',\n",
       " ',',\n",
       " 'especially',\n",
       " 'by',\n",
       " 'companies',\n",
       " 'in',\n",
       " 'their',\n",
       " 'marketing',\n",
       " 'materials',\n",
       " '‘',\n",
       " 'there',\n",
       " 'are',\n",
       " 'dltinctons',\n",
       " '.',\n",
       " 'The',\n",
       " 'term',\n",
       " 'A',\n",
       " ',',\n",
       " 'coined',\n",
       " 'inthe',\n",
       " '1950s',\n",
       " ',',\n",
       " 'refers',\n",
       " 'to',\n",
       " 'the',\n",
       " 'simulation',\n",
       " 'of',\n",
       " 'human',\n",
       " 'Inteligence',\n",
       " 'by',\n",
       " 'machines',\n",
       " '.',\n",
       " 'covers',\n",
       " 'an',\n",
       " 'ever-changing',\n",
       " 'et',\n",
       " 'of',\n",
       " 'capabilities',\n",
       " 'as',\n",
       " 'new',\n",
       " 'technologies',\n",
       " 'are',\n",
       " 'developed',\n",
       " '.',\n",
       " 'Technologies',\n",
       " 'that',\n",
       " 'come',\n",
       " 'under',\n",
       " 'the',\n",
       " 'umbrella',\n",
       " 'ofA',\n",
       " 'nckide',\n",
       " 'machine',\n",
       " 'learning',\n",
       " 'and',\n",
       " '‘',\n",
       " 'dep',\n",
       " 'learning',\n",
       " '.',\n",
       " 'Machine',\n",
       " 'learning',\n",
       " 'enables',\n",
       " 'software',\n",
       " 'applications',\n",
       " 'to',\n",
       " 'become',\n",
       " 'more',\n",
       " 'accurate',\n",
       " 'at',\n",
       " 'Predicting',\n",
       " 'outcomes',\n",
       " 'without',\n",
       " 'being',\n",
       " 'explicitly',\n",
       " 'programmed',\n",
       " 'todo',\n",
       " 'so',\n",
       " '.',\n",
       " 'Machine',\n",
       " 'learing',\n",
       " 'algorithms',\n",
       " 'Use',\n",
       " 'historical',\n",
       " 'data',\n",
       " 'as',\n",
       " 'input',\n",
       " 'to',\n",
       " 'predict',\n",
       " 'new',\n",
       " 'output',\n",
       " 'values',\n",
       " '.',\n",
       " 'This',\n",
       " 'approzch',\n",
       " 'became',\n",
       " 'vastly',\n",
       " 'more',\n",
       " 'fective',\n",
       " 'wit',\n",
       " 'the',\n",
       " 'rise',\n",
       " 'of',\n",
       " 'large',\n",
       " 'dataset',\n",
       " 'to',\n",
       " 'train',\n",
       " 'on',\n",
       " '.',\n",
       " 'Deep',\n",
       " 'learning',\n",
       " ',',\n",
       " 'a',\n",
       " 'subset',\n",
       " 'of',\n",
       " 'machine',\n",
       " 'learning',\n",
       " 'is',\n",
       " 'based',\n",
       " 'on',\n",
       " 'cur',\n",
       " 'understanding',\n",
       " 'of',\n",
       " 'how',\n",
       " 'the',\n",
       " 'bain',\n",
       " 'is',\n",
       " 'structured',\n",
       " '.',\n",
       " 'Deep',\n",
       " 'learing',\n",
       " 'use',\n",
       " 'of',\n",
       " 'artificial',\n",
       " 'neural',\n",
       " 'networks',\n",
       " 'structures',\n",
       " 'the',\n",
       " 'underpinning',\n",
       " 'of',\n",
       " 'recent',\n",
       " 'advances',\n",
       " 'in',\n",
       " 'Al',\n",
       " ',',\n",
       " 'including',\n",
       " 'selt-ving',\n",
       " 'cars',\n",
       " 'and',\n",
       " 'ChatGPT']"
      ]
     },
     "execution_count": 65,
     "metadata": {},
     "output_type": "execute_result"
    }
   ],
   "source": [
    "words=word_tokenize(paragreph)\n",
    "words"
   ]
  },
  {
   "cell_type": "code",
   "execution_count": null,
   "id": "073b485a",
   "metadata": {},
   "outputs": [
    {
     "data": {
      "text/plain": [
       "['Al machine leering and deap learning are common terms in enterprise\\nFT and sometimes used interchangeably, especially by companies in their marketing materials\\n‘there are dltinctons.',\n",
       " 'The term A, coined inthe 1950s, refers to the simulation of human\\nInteligence by machines.',\n",
       " 'covers an ever-changing et of capabilities as new technologies\\nare developed.',\n",
       " 'Technologies that come under the umbrella ofA nckide machine learning and\\n‘dep learning.',\n",
       " 'Machine learning enables software applications to become more accurate at\\nPredicting outcomes without being explicitly programmed todo so.',\n",
       " 'Machine learing algorithms\\nUse historical data as input to predict new output values.',\n",
       " 'This approzch became vastly more\\nfective wit the rise of large dataset to train on.',\n",
       " 'Deep learning, a subset of machine\\nlearning is based on cur understanding of how the bain is structured.',\n",
       " 'Deep learing \\nuse of artificial neural networks structures the underpinning of recent advances in Al,\\nincluding selt-ving cars and ChatGPT']"
      ]
     },
     "execution_count": 66,
     "metadata": {},
     "output_type": "execute_result"
    }
   ],
   "source": [
    "for i in sentense:\n",
    "    words=word_tokenize(sentense[i])\n",
    "    "
   ]
  },
  {
   "cell_type": "code",
   "execution_count": null,
   "id": "1c508682",
   "metadata": {},
   "outputs": [],
   "source": []
  },
  {
   "cell_type": "code",
   "execution_count": null,
   "id": "ec06ea2c",
   "metadata": {},
   "outputs": [],
   "source": []
  },
  {
   "cell_type": "code",
   "execution_count": null,
   "id": "73b14822",
   "metadata": {},
   "outputs": [],
   "source": []
  },
  {
   "cell_type": "code",
   "execution_count": null,
   "id": "279edf51",
   "metadata": {},
   "outputs": [],
   "source": []
  }
 ],
 "metadata": {
  "kernelspec": {
   "display_name": "Python 3",
   "language": "python",
   "name": "python3"
  },
  "language_info": {
   "codemirror_mode": {
    "name": "ipython",
    "version": 3
   },
   "file_extension": ".py",
   "mimetype": "text/x-python",
   "name": "python",
   "nbconvert_exporter": "python",
   "pygments_lexer": "ipython3",
   "version": "3.13.5"
  }
 },
 "nbformat": 4,
 "nbformat_minor": 5
}
