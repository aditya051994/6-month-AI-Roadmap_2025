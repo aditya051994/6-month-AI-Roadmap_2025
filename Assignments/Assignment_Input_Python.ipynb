{
 "cells": [
  {
   "cell_type": "code",
   "execution_count": null,
   "id": "280ea28b",
   "metadata": {},
   "outputs": [],
   "source": [
    "# Q1) What is the input() function in Python used for\n",
    "# Used to take an input from user"
   ]
  },
  {
   "cell_type": "code",
   "execution_count": null,
   "id": "a1a1e356",
   "metadata": {},
   "outputs": [
    {
     "name": "stdout",
     "output_type": "stream",
     "text": [
      "12\n"
     ]
    }
   ],
   "source": [
    "# Q2) How can you accept an integer as input from the user using input()?\n",
    "age=int(input('Entrr age'))\n",
    "print(age)"
   ]
  },
  {
   "cell_type": "code",
   "execution_count": 5,
   "id": "814115fd",
   "metadata": {},
   "outputs": [
    {
     "name": "stdout",
     "output_type": "stream",
     "text": [
      "90.4\n"
     ]
    }
   ],
   "source": [
    "# Q3) How do you accept a float input from the user?\n",
    "percentage=float(input('Enter student percentage'))\n",
    "print(percentage)"
   ]
  },
  {
   "cell_type": "code",
   "execution_count": 6,
   "id": "99bf1429",
   "metadata": {},
   "outputs": [
    {
     "name": "stdout",
     "output_type": "stream",
     "text": [
      "John Willson\n"
     ]
    }
   ],
   "source": [
    "# Q4) How can you take multiple space-separated values as input?\n",
    "username=input('Enter full name')\n",
    "print(username)"
   ]
  },
  {
   "cell_type": "code",
   "execution_count": 10,
   "id": "b49433c4",
   "metadata": {},
   "outputs": [
    {
     "name": "stdout",
     "output_type": "stream",
     "text": [
      "Positive\n"
     ]
    }
   ],
   "source": [
    "# Q5) How do you check if a number entered by the user is positive, negative, or zero\n",
    "number=int(input('Enter value'))\n",
    "if number==0:\n",
    "    print(\"Zero\")\n",
    "elif number>0:\n",
    "    print(\"Positive\")\n",
    "else: print(\"Negative\")        "
   ]
  },
  {
   "cell_type": "code",
   "execution_count": 14,
   "id": "7b57164f",
   "metadata": {},
   "outputs": [
    {
     "name": "stdout",
     "output_type": "stream",
     "text": [
      "[12]\n",
      "<class 'list'>\n"
     ]
    }
   ],
   "source": [
    "# Q6) How do you convert user input to a list of integers\n",
    "listData=int(input('Enter value for list'))\n",
    "Data=[]\n",
    "Data.append(listData)\n",
    "print(Data)\n",
    "print(type(Data))"
   ]
  },
  {
   "cell_type": "code",
   "execution_count": 16,
   "id": "06fc72cf",
   "metadata": {},
   "outputs": [
    {
     "name": "stdout",
     "output_type": "stream",
     "text": [
      "ADITYA\n"
     ]
    }
   ],
   "source": [
    "# Q7) How do you accept a string input and print it in uppercase?\n",
    "userData=input('Enter value for conver into uppsercase')\n",
    "print(userData.upper())"
   ]
  },
  {
   "cell_type": "code",
   "execution_count": null,
   "id": "42047a3f",
   "metadata": {},
   "outputs": [
    {
     "name": "stdout",
     "output_type": "stream",
     "text": [
      "3\n"
     ]
    }
   ],
   "source": [
    "# Q8) Write a Python program that accepts a string and prints the number of vowels in it.\n",
    "vowels=['a','e','i','o','u']\n",
    "count=0\n",
    "sentense=input('Enter word to count vowels')\n",
    "for i in sentense:\n",
    "    if vowels.count(i):\n",
    "        count=count+1\n",
    "print(count)"
   ]
  },
  {
   "cell_type": "code",
   "execution_count": 19,
   "id": "e6e53be9",
   "metadata": {},
   "outputs": [
    {
     "name": "stdout",
     "output_type": "stream",
     "text": [
      "Even Number\n"
     ]
    }
   ],
   "source": [
    "# Q9) Write a program that takes a number as input and checks if it is even or odd.\n",
    "num=int(input('Enter number'))\n",
    "if num%2==0:\n",
    "    print(\"Even Number\")\n",
    "else:\n",
    "    print(\"Odd Number\")    "
   ]
  },
  {
   "cell_type": "code",
   "execution_count": null,
   "id": "e2987a51",
   "metadata": {},
   "outputs": [],
   "source": [
    "# Q10)  How would you check if a string is a palindrome using input().\n",
    "data=input('Enter value to check palindrome')\n",
    "if data==data."
   ]
  },
  {
   "cell_type": "code",
   "execution_count": 20,
   "id": "204f8de5",
   "metadata": {},
   "outputs": [
    {
     "name": "stdout",
     "output_type": "stream",
     "text": [
      "144\n"
     ]
    }
   ],
   "source": [
    "# Q11) Write a program that takes a number as input and prints its square\n",
    "number=int(input('Enter value'))\n",
    "print(number**2)"
   ]
  },
  {
   "cell_type": "code",
   "execution_count": 23,
   "id": "158a6501",
   "metadata": {},
   "outputs": [
    {
     "name": "stdout",
     "output_type": "stream",
     "text": [
      "Not Divisible by 3 Number\n"
     ]
    }
   ],
   "source": [
    "# Q12)  Write a program that asks for a number and prints whether it is divisible by 3\n",
    "num=int(input('Enter number'))\n",
    "if num%3==0:\n",
    "    print(\"Divisible by 3 Number\")\n",
    "else:\n",
    "    print(\"Not Divisible by 3 Number\") "
   ]
  },
  {
   "cell_type": "code",
   "execution_count": 25,
   "id": "f3842f82",
   "metadata": {},
   "outputs": [
    {
     "name": "stdout",
     "output_type": "stream",
     "text": [
      "Not Divisible by 3 & 7 Number\n"
     ]
    }
   ],
   "source": [
    "# Q13)  How would you check if a number is divisible by both 3 and 7\n",
    "num=int(input('Enter number'))\n",
    "if num%3==0 and num%7==0  :\n",
    "    print(\"Divisible by 3 & 7 Number\")\n",
    "else:\n",
    "    print(\"Not Divisible by 3 & 7 Number\") "
   ]
  },
  {
   "cell_type": "code",
   "execution_count": 3,
   "id": "77d08b4b",
   "metadata": {},
   "outputs": [
    {
     "name": "stdout",
     "output_type": "stream",
     "text": [
      "['India', 'Japan', 'USA']\n"
     ]
    }
   ],
   "source": [
    "# Q14) How do you accept a list of comma-separated values as input\n",
    "val=input('Enter value with comma seprated').split(',')\n",
    "print(val)"
   ]
  },
  {
   "cell_type": "code",
   "execution_count": 4,
   "id": "4be994fa",
   "metadata": {},
   "outputs": [
    {
     "name": "stdout",
     "output_type": "stream",
     "text": [
      "144\n"
     ]
    }
   ],
   "source": [
    "# Q15) Write a Python program that takes two numbers as input and prints their product.\n",
    "num_1=int(input('Enter first value'))\n",
    "num_2=int(input('Enter second value'))\n",
    "print(num_1*num_2)"
   ]
  },
  {
   "cell_type": "code",
   "execution_count": null,
   "id": "2430a0ef",
   "metadata": {},
   "outputs": [
    {
     "name": "stdout",
     "output_type": "stream",
     "text": [
      "Not Prime Number\n"
     ]
    }
   ],
   "source": []
  },
  {
   "cell_type": "code",
   "execution_count": null,
   "id": "1695b100",
   "metadata": {},
   "outputs": [],
   "source": []
  }
 ],
 "metadata": {
  "kernelspec": {
   "display_name": "Python 3",
   "language": "python",
   "name": "python3"
  },
  "language_info": {
   "codemirror_mode": {
    "name": "ipython",
    "version": 3
   },
   "file_extension": ".py",
   "mimetype": "text/x-python",
   "name": "python",
   "nbconvert_exporter": "python",
   "pygments_lexer": "ipython3",
   "version": "3.13.3"
  }
 },
 "nbformat": 4,
 "nbformat_minor": 5
}
