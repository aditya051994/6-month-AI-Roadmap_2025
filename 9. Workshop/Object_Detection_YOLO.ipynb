{
 "cells": [
  {
   "cell_type": "code",
   "execution_count": 3,
   "id": "b9b6e09d",
   "metadata": {},
   "outputs": [],
   "source": [
    "# ==== Object Detection using YOLO (You Only Look Once) ====\n",
    "# -Self Driving Cars\n",
    "# -CCTV Survelliance\n",
    "# -Face Detection\n",
    "# -Traffic Monitoring\n"
   ]
  },
  {
   "cell_type": "code",
   "execution_count": null,
   "id": "f2839a0f",
   "metadata": {},
   "outputs": [],
   "source": [
    "pip install  ultralytics"
   ]
  },
  {
   "cell_type": "code",
   "execution_count": null,
   "id": "3651cc06",
   "metadata": {},
   "outputs": [],
   "source": []
  },
  {
   "cell_type": "code",
   "execution_count": null,
   "id": "77ebc99d",
   "metadata": {},
   "outputs": [],
   "source": []
  },
  {
   "cell_type": "code",
   "execution_count": null,
   "id": "9a0592a9",
   "metadata": {},
   "outputs": [],
   "source": []
  },
  {
   "cell_type": "code",
   "execution_count": null,
   "id": "7c082e68",
   "metadata": {},
   "outputs": [],
   "source": []
  }
 ],
 "metadata": {
  "kernelspec": {
   "display_name": "Python 3",
   "language": "python",
   "name": "python3"
  },
  "language_info": {
   "codemirror_mode": {
    "name": "ipython",
    "version": 3
   },
   "file_extension": ".py",
   "mimetype": "text/x-python",
   "name": "python",
   "nbconvert_exporter": "python",
   "pygments_lexer": "ipython3",
   "version": "3.13.3"
  }
 },
 "nbformat": 4,
 "nbformat_minor": 5
}
