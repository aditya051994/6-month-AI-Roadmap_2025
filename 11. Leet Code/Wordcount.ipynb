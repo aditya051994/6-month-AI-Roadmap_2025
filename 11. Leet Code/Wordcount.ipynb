{
 "cells": [
  {
   "cell_type": "markdown",
   "id": "94af6ebb",
   "metadata": {},
   "source": [
    "# 58.Length of Last Word"
   ]
  },
  {
   "cell_type": "code",
   "execution_count": 14,
   "id": "015000ad",
   "metadata": {},
   "outputs": [
    {
     "data": {
      "text/plain": [
       "4"
      ]
     },
     "execution_count": 14,
     "metadata": {},
     "output_type": "execute_result"
    }
   ],
   "source": [
    "class Solution:\n",
    "    def lengthOfLastWord(self, s: str) -> int:\n",
    "        if len(s)>0:\n",
    "            newStr=s.lstrip().rstrip()\n",
    "            splitData=newStr.split(' ')\n",
    "            return len(splitData[len(splitData)-1])\n",
    "\n",
    "        \n",
    "        \n",
    "\n",
    "Obj=Solution()\n",
    "Obj.lengthOfLastWord('   fly me   to   the moon  ')        "
   ]
  },
  {
   "cell_type": "code",
   "execution_count": null,
   "id": "c6007c49",
   "metadata": {},
   "outputs": [],
   "source": []
  }
 ],
 "metadata": {
  "kernelspec": {
   "display_name": "Python 3",
   "language": "python",
   "name": "python3"
  },
  "language_info": {
   "codemirror_mode": {
    "name": "ipython",
    "version": 3
   },
   "file_extension": ".py",
   "mimetype": "text/x-python",
   "name": "python",
   "nbconvert_exporter": "python",
   "pygments_lexer": "ipython3",
   "version": "3.13.3"
  }
 },
 "nbformat": 4,
 "nbformat_minor": 5
}
