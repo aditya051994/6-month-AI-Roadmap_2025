{
 "cells": [
  {
   "cell_type": "code",
   "execution_count": null,
   "id": "62ddf0f8",
   "metadata": {},
   "outputs": [
    {
     "name": "stdout",
     "output_type": "stream",
     "text": [
      "[1, 1, 2, 3, 4, 4]\n"
     ]
    },
    {
     "data": {
      "text/plain": [
       "[]"
      ]
     },
     "execution_count": 17,
     "metadata": {},
     "output_type": "execute_result"
    }
   ],
   "source": [
    "#21. Merge Two Sorted Lists\n",
    "from typing import Optional\n",
    "\n",
    "\n",
    "class Solution:\n",
    "    def mergeTwoLists(self, list1, list2) : # type: ignore\n",
    "        newlst=[]\n",
    "        for i in range(len(list1)):\n",
    "            newlst.append(list1[i])\n",
    "\n",
    "        for i in range(len(list2)):\n",
    "            newlst.append(list2[i])       \n",
    "\n",
    "        return   newlst.sort()\n",
    "    \n",
    "Obj=Solution()\n",
    "Obj.mergeTwoLists([1,2,4],[1,3,4])    \n",
    "\n",
    "    "
   ]
  },
  {
   "cell_type": "code",
   "execution_count": null,
   "id": "2ad591ca",
   "metadata": {},
   "outputs": [],
   "source": []
  }
 ],
 "metadata": {
  "kernelspec": {
   "display_name": "Python 3",
   "language": "python",
   "name": "python3"
  },
  "language_info": {
   "codemirror_mode": {
    "name": "ipython",
    "version": 3
   },
   "file_extension": ".py",
   "mimetype": "text/x-python",
   "name": "python",
   "nbconvert_exporter": "python",
   "pygments_lexer": "ipython3",
   "version": "3.13.3"
  }
 },
 "nbformat": 4,
 "nbformat_minor": 5
}
