{
 "cells": [
  {
   "cell_type": "code",
   "execution_count": 1,
   "id": "35fee090",
   "metadata": {},
   "outputs": [],
   "source": [
    "#Shallow Copy and Deep copy"
   ]
  },
  {
   "cell_type": "code",
   "execution_count": 15,
   "id": "4531debb",
   "metadata": {},
   "outputs": [
    {
     "name": "stdout",
     "output_type": "stream",
     "text": [
      "[[99, 2], [3, 4]]\n",
      "[[1, 2], [3, 4]]\n"
     ]
    }
   ],
   "source": [
    "import copy\n",
    "a = [[1, 2], [3, 4]] \n",
    "b = copy.copy(a) # Shallow copy \n",
    "c = copy.deepcopy(a) # Deep copy \n",
    "a[0][0] = 99 \n",
    "print(b) # [[99, 2], [3, 4]] (modified) \n",
    "print(c) # [[1, 2], [3, 4]] (unchanged)"
   ]
  },
  {
   "cell_type": "code",
   "execution_count": null,
   "id": "9ca08c7f",
   "metadata": {},
   "outputs": [
    {
     "name": "stdout",
     "output_type": "stream",
     "text": [
      "Count value 1\n",
      "Count value inside inner function 2\n"
     ]
    }
   ],
   "source": [
    "#Nonlocal variable\n",
    "def countData():\n",
    "    count=1\n",
    "    print(f\"Count value {count}\")\n",
    "    def inner():\n",
    "        nonlocal count # It allow to use count from outer inside inner function\n",
    "        count+=1\n",
    "        print(f\"Count value inside inner function {count}\")\n",
    "    inner()\n",
    "\n",
    "countData()"
   ]
  },
  {
   "cell_type": "code",
   "execution_count": 3,
   "id": "8529dcfd",
   "metadata": {},
   "outputs": [
    {
     "name": "stdout",
     "output_type": "stream",
     "text": [
      "140703339917320\n"
     ]
    }
   ],
   "source": [
    "a=100\n",
    "print(id(a))"
   ]
  },
  {
   "cell_type": "code",
   "execution_count": 4,
   "id": "3faaf5e5",
   "metadata": {},
   "outputs": [
    {
     "name": "stdout",
     "output_type": "stream",
     "text": [
      "140703339917640\n"
     ]
    }
   ],
   "source": [
    "a=a+10\n",
    "print(id(a))"
   ]
  },
  {
   "cell_type": "code",
   "execution_count": null,
   "id": "3ffbdf48",
   "metadata": {},
   "outputs": [],
   "source": []
  }
 ],
 "metadata": {
  "kernelspec": {
   "display_name": "Python 3",
   "language": "python",
   "name": "python3"
  },
  "language_info": {
   "codemirror_mode": {
    "name": "ipython",
    "version": 3
   },
   "file_extension": ".py",
   "mimetype": "text/x-python",
   "name": "python",
   "nbconvert_exporter": "python",
   "pygments_lexer": "ipython3",
   "version": "3.13.3"
  }
 },
 "nbformat": 4,
 "nbformat_minor": 5
}
